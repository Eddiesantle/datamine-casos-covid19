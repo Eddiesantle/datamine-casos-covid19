{
 "cells": [
  {
   "cell_type": "markdown",
   "metadata": {},
   "source": [
    "Benefícios por Incapacidade Concedidos por Classificação Internacional de Doenças (CID)\n",
    "\n",
    "Benefícios concedidos pela Classificação Internacional de Doenças (CID-10), grupos de espécie \n",
    "específicos, clientela, sexo do beneficiário e ano da Data de Despacho do Beneficio (DDB). Não inclui \n",
    "pensões alimentícias, desdobramentos de pensões por morte nem benefícios de prestação única. Considera \n",
    "apenas espécies de 'aposentadorias por invalidez' e 'auxílios-doença'.\n",
    "\n",
    "# BANCO DE DADOS da disciplina de DATAMINING \n",
    "    \n",
    "Com base nos dados da DADOSGOV(http://www.dados.gov.br) vamos analisar os casos de paciêntes vulneraveis ao COVID19 \n",
    "\n",
    "- Seleção: Escolher um subconjunto de dados abas, colunas e linhas relevantes.\n",
    "- Limpesa: Retirar abas, colunas e linhas irrelevantes.\n",
    "- Enriquecer: Adicionar abas, colunas e linhas de outra origens de dados.\n",
    "- Enriquecer Criar: Criar um valor novo que não existe(null) colunas e linhas.\n",
    "- Transformação: Altera dados com objetivo de padronizar.\n",
    "\n",
    "Link -> http://www.dados.gov.br/dataset/beneficios-por-incapacidade-concedidos-por-classificacao-internacional-de-doencas-cid10\n",
    "\n",
    "Arquivo -> BD_ORIGINAL_CID_BENEFICIOS.csv"
   ]
  },
  {
   "cell_type": "code",
   "execution_count": 1,
   "metadata": {},
   "outputs": [],
   "source": [
    "# Importando bibliotecas\n",
    "# Por convenção pandas é chamado pd\n",
    "import pandas as pd\n",
    "import numpy as np\n",
    "# Importar uma nova biblioteca para gráfico\n",
    "import seaborn as sns\n",
    "import matplotlib.pyplot as plt\n",
    "# Configurando a matplotlib\n",
    "%matplotlib inline"
   ]
  },
  {
   "cell_type": "markdown",
   "metadata": {},
   "source": [
    "# Método - ENRIQUECIMENTO E TRANSFORMAÇÃO"
   ]
  },
  {
   "cell_type": "code",
   "execution_count": 2,
   "metadata": {},
   "outputs": [
    {
     "data": {
      "text/html": [
       "<div>\n",
       "<style scoped>\n",
       "    .dataframe tbody tr th:only-of-type {\n",
       "        vertical-align: middle;\n",
       "    }\n",
       "\n",
       "    .dataframe tbody tr th {\n",
       "        vertical-align: top;\n",
       "    }\n",
       "\n",
       "    .dataframe thead th {\n",
       "        text-align: right;\n",
       "    }\n",
       "</style>\n",
       "<table border=\"1\" class=\"dataframe\">\n",
       "  <thead>\n",
       "    <tr style=\"text-align: right;\">\n",
       "      <th></th>\n",
       "      <th>Ano</th>\n",
       "      <th>CID10</th>\n",
       "      <th>Sexo</th>\n",
       "      <th>Qde Benefícios Concedidos</th>\n",
       "      <th>Grupo CID</th>\n",
       "      <th>Grupo/Principais Espécies</th>\n",
       "    </tr>\n",
       "  </thead>\n",
       "  <tbody>\n",
       "    <tr>\n",
       "      <th>0</th>\n",
       "      <td>2008</td>\n",
       "      <td>A02:Outr Infecc p/Salmonella</td>\n",
       "      <td>Masculino</td>\n",
       "      <td>1</td>\n",
       "      <td>Algumas doenças infecciosas e parasitárias</td>\n",
       "      <td>Ap Invalidez</td>\n",
       "    </tr>\n",
       "    <tr>\n",
       "      <th>1</th>\n",
       "      <td>2008</td>\n",
       "      <td>A04:Outr Infecc Intestinais Bacter</td>\n",
       "      <td>Masculino</td>\n",
       "      <td>1</td>\n",
       "      <td>Algumas doenças infecciosas e parasitárias</td>\n",
       "      <td>Ap Invalidez</td>\n",
       "    </tr>\n",
       "    <tr>\n",
       "      <th>2</th>\n",
       "      <td>2008</td>\n",
       "      <td>A15:Tuberc Respirat c/Conf Bacteriol e Histol</td>\n",
       "      <td>Masculino</td>\n",
       "      <td>112</td>\n",
       "      <td>Algumas doenças infecciosas e parasitárias</td>\n",
       "      <td>Ap Invalidez</td>\n",
       "    </tr>\n",
       "    <tr>\n",
       "      <th>3</th>\n",
       "      <td>2008</td>\n",
       "      <td>A16:Tuberc Vias Respirat s/Conf Bacter Histol</td>\n",
       "      <td>Masculino</td>\n",
       "      <td>38</td>\n",
       "      <td>Algumas doenças infecciosas e parasitárias</td>\n",
       "      <td>Ap Invalidez</td>\n",
       "    </tr>\n",
       "    <tr>\n",
       "      <th>4</th>\n",
       "      <td>2008</td>\n",
       "      <td>A17:Tuberc do Sist Nervoso</td>\n",
       "      <td>Masculino</td>\n",
       "      <td>3</td>\n",
       "      <td>Algumas doenças infecciosas e parasitárias</td>\n",
       "      <td>Ap Invalidez</td>\n",
       "    </tr>\n",
       "  </tbody>\n",
       "</table>\n",
       "</div>"
      ],
      "text/plain": [
       "    Ano                                          CID10       Sexo  \\\n",
       "0  2008                   A02:Outr Infecc p/Salmonella  Masculino   \n",
       "1  2008             A04:Outr Infecc Intestinais Bacter  Masculino   \n",
       "2  2008  A15:Tuberc Respirat c/Conf Bacteriol e Histol  Masculino   \n",
       "3  2008  A16:Tuberc Vias Respirat s/Conf Bacter Histol  Masculino   \n",
       "4  2008                     A17:Tuberc do Sist Nervoso  Masculino   \n",
       "\n",
       "   Qde Benefícios Concedidos                                   Grupo CID  \\\n",
       "0                          1  Algumas doenças infecciosas e parasitárias   \n",
       "1                          1  Algumas doenças infecciosas e parasitárias   \n",
       "2                        112  Algumas doenças infecciosas e parasitárias   \n",
       "3                         38  Algumas doenças infecciosas e parasitárias   \n",
       "4                          3  Algumas doenças infecciosas e parasitárias   \n",
       "\n",
       "  Grupo/Principais Espécies  \n",
       "0              Ap Invalidez  \n",
       "1              Ap Invalidez  \n",
       "2              Ap Invalidez  \n",
       "3              Ap Invalidez  \n",
       "4              Ap Invalidez  "
      ]
     },
     "execution_count": 2,
     "metadata": {},
     "output_type": "execute_result"
    }
   ],
   "source": [
    "# Carregar arquivo .csv\n",
    "# Pandas vai converter o arquivo em um Dataframe(Quadradoo de dados) \"Semelhante a planilhas de exell\".\n",
    "# Por convenção chamamos DataFrame de df\n",
    "\n",
    "df = pd.read_csv(\"BD_BASE1.csv\",encoding=\"cp1252\")\n",
    "\n",
    "# Remove coluna 'Unnamed: 0'\n",
    "df = df.drop(columns=['Unnamed: 0'])\n",
    "\n",
    "\n",
    "df.head(5)"
   ]
  },
  {
   "cell_type": "code",
   "execution_count": 3,
   "metadata": {},
   "outputs": [
    {
     "data": {
      "text/plain": [
       "(104695, 6)"
      ]
     },
     "execution_count": 3,
     "metadata": {},
     "output_type": "execute_result"
    }
   ],
   "source": [
    "# Verifica o tamanho do Dataframe, Quantidades de linha e coluna.\n",
    "# Formato(linhas, colunas)\n",
    "df.shape"
   ]
  },
  {
   "cell_type": "markdown",
   "metadata": {},
   "source": [
    "# Decisão sobre dados ENRIQUECIMENTO E TRANSFORMAÇÃO"
   ]
  },
  {
   "cell_type": "code",
   "execution_count": 4,
   "metadata": {},
   "outputs": [],
   "source": [
    "# Transformar Dtype 'Valor Benef Concedidos (R$)' object para float\n",
    "\n",
    "## Esta exceção é lançada quando a string que você está tentando converter não está em um formato válido. \n",
    "#Isso acontece quando você utiliza a vírgula como separador decimal, quando a string é vazia ou possui \n",
    "#caracteres não numéricos, etc.\n",
    "\n",
    "#df['Valor Benef Concedidos (R$)'] = df['Valor Benef Concedidos (R$)'].str.replace(',','.').astype(float)\n",
    "#df.head(10)"
   ]
  },
  {
   "cell_type": "markdown",
   "metadata": {},
   "source": [
    "######################################## Transformar coluna 'CID10' em duas colunas ########################################"
   ]
  },
  {
   "cell_type": "code",
   "execution_count": 5,
   "metadata": {},
   "outputs": [
    {
     "data": {
      "text/html": [
       "<div>\n",
       "<style scoped>\n",
       "    .dataframe tbody tr th:only-of-type {\n",
       "        vertical-align: middle;\n",
       "    }\n",
       "\n",
       "    .dataframe tbody tr th {\n",
       "        vertical-align: top;\n",
       "    }\n",
       "\n",
       "    .dataframe thead th {\n",
       "        text-align: right;\n",
       "    }\n",
       "</style>\n",
       "<table border=\"1\" class=\"dataframe\">\n",
       "  <thead>\n",
       "    <tr style=\"text-align: right;\">\n",
       "      <th></th>\n",
       "      <th>0</th>\n",
       "      <th>1</th>\n",
       "    </tr>\n",
       "  </thead>\n",
       "  <tbody>\n",
       "    <tr>\n",
       "      <th>0</th>\n",
       "      <td>A02</td>\n",
       "      <td>Outr Infecc p/Salmonella</td>\n",
       "    </tr>\n",
       "    <tr>\n",
       "      <th>1</th>\n",
       "      <td>A04</td>\n",
       "      <td>Outr Infecc Intestinais Bacter</td>\n",
       "    </tr>\n",
       "    <tr>\n",
       "      <th>2</th>\n",
       "      <td>A15</td>\n",
       "      <td>Tuberc Respirat c/Conf Bacteriol e Histol</td>\n",
       "    </tr>\n",
       "  </tbody>\n",
       "</table>\n",
       "</div>"
      ],
      "text/plain": [
       "     0                                          1\n",
       "0  A02                   Outr Infecc p/Salmonella\n",
       "1  A04             Outr Infecc Intestinais Bacter\n",
       "2  A15  Tuberc Respirat c/Conf Bacteriol e Histol"
      ]
     },
     "execution_count": 5,
     "metadata": {},
     "output_type": "execute_result"
    }
   ],
   "source": [
    "# Separa por caractere e cria coluna exemplo: \"1-Auxílio-Doença Lop\"\n",
    "CID10 = df['CID10'].str.split(':', expand=True).astype(str)\n",
    "CID10.head(3)"
   ]
  },
  {
   "cell_type": "code",
   "execution_count": 6,
   "metadata": {},
   "outputs": [
    {
     "data": {
      "text/html": [
       "<div>\n",
       "<style scoped>\n",
       "    .dataframe tbody tr th:only-of-type {\n",
       "        vertical-align: middle;\n",
       "    }\n",
       "\n",
       "    .dataframe tbody tr th {\n",
       "        vertical-align: top;\n",
       "    }\n",
       "\n",
       "    .dataframe thead th {\n",
       "        text-align: right;\n",
       "    }\n",
       "</style>\n",
       "<table border=\"1\" class=\"dataframe\">\n",
       "  <thead>\n",
       "    <tr style=\"text-align: right;\">\n",
       "      <th></th>\n",
       "      <th>CID-Índice</th>\n",
       "      <th>CID-Descrição</th>\n",
       "    </tr>\n",
       "  </thead>\n",
       "  <tbody>\n",
       "    <tr>\n",
       "      <th>0</th>\n",
       "      <td>A02</td>\n",
       "      <td>Outr Infecc p/Salmonella</td>\n",
       "    </tr>\n",
       "    <tr>\n",
       "      <th>1</th>\n",
       "      <td>A04</td>\n",
       "      <td>Outr Infecc Intestinais Bacter</td>\n",
       "    </tr>\n",
       "    <tr>\n",
       "      <th>2</th>\n",
       "      <td>A15</td>\n",
       "      <td>Tuberc Respirat c/Conf Bacteriol e Histol</td>\n",
       "    </tr>\n",
       "  </tbody>\n",
       "</table>\n",
       "</div>"
      ],
      "text/plain": [
       "  CID-Índice                              CID-Descrição\n",
       "0        A02                   Outr Infecc p/Salmonella\n",
       "1        A04             Outr Infecc Intestinais Bacter\n",
       "2        A15  Tuberc Respirat c/Conf Bacteriol e Histol"
      ]
     },
     "execution_count": 6,
     "metadata": {},
     "output_type": "execute_result"
    }
   ],
   "source": [
    "CID = CID10.rename(columns={0: 'CID-Índice', 1: 'CID-Descrição'})\n",
    "CID_Indice = CID['CID-Índice']\n",
    "CID_Descricao = CID['CID-Descrição']\n",
    "CID.head(3)"
   ]
  },
  {
   "cell_type": "code",
   "execution_count": 7,
   "metadata": {
    "scrolled": false
   },
   "outputs": [
    {
     "data": {
      "text/html": [
       "<div>\n",
       "<style scoped>\n",
       "    .dataframe tbody tr th:only-of-type {\n",
       "        vertical-align: middle;\n",
       "    }\n",
       "\n",
       "    .dataframe tbody tr th {\n",
       "        vertical-align: top;\n",
       "    }\n",
       "\n",
       "    .dataframe thead th {\n",
       "        text-align: right;\n",
       "    }\n",
       "</style>\n",
       "<table border=\"1\" class=\"dataframe\">\n",
       "  <thead>\n",
       "    <tr style=\"text-align: right;\">\n",
       "      <th></th>\n",
       "      <th>Ano</th>\n",
       "      <th>Sexo</th>\n",
       "      <th>Qde Benefícios Concedidos</th>\n",
       "      <th>Grupo CID</th>\n",
       "      <th>Grupo/Principais Espécies</th>\n",
       "      <th>CID-Índice</th>\n",
       "      <th>CID-Descrição</th>\n",
       "    </tr>\n",
       "  </thead>\n",
       "  <tbody>\n",
       "    <tr>\n",
       "      <th>0</th>\n",
       "      <td>2008</td>\n",
       "      <td>Masculino</td>\n",
       "      <td>1</td>\n",
       "      <td>Algumas doenças infecciosas e parasitárias</td>\n",
       "      <td>Ap Invalidez</td>\n",
       "      <td>A02</td>\n",
       "      <td>Outr Infecc p/Salmonella</td>\n",
       "    </tr>\n",
       "    <tr>\n",
       "      <th>1</th>\n",
       "      <td>2008</td>\n",
       "      <td>Masculino</td>\n",
       "      <td>1</td>\n",
       "      <td>Algumas doenças infecciosas e parasitárias</td>\n",
       "      <td>Ap Invalidez</td>\n",
       "      <td>A04</td>\n",
       "      <td>Outr Infecc Intestinais Bacter</td>\n",
       "    </tr>\n",
       "    <tr>\n",
       "      <th>2</th>\n",
       "      <td>2008</td>\n",
       "      <td>Masculino</td>\n",
       "      <td>112</td>\n",
       "      <td>Algumas doenças infecciosas e parasitárias</td>\n",
       "      <td>Ap Invalidez</td>\n",
       "      <td>A15</td>\n",
       "      <td>Tuberc Respirat c/Conf Bacteriol e Histol</td>\n",
       "    </tr>\n",
       "    <tr>\n",
       "      <th>3</th>\n",
       "      <td>2008</td>\n",
       "      <td>Masculino</td>\n",
       "      <td>38</td>\n",
       "      <td>Algumas doenças infecciosas e parasitárias</td>\n",
       "      <td>Ap Invalidez</td>\n",
       "      <td>A16</td>\n",
       "      <td>Tuberc Vias Respirat s/Conf Bacter Histol</td>\n",
       "    </tr>\n",
       "    <tr>\n",
       "      <th>4</th>\n",
       "      <td>2008</td>\n",
       "      <td>Masculino</td>\n",
       "      <td>3</td>\n",
       "      <td>Algumas doenças infecciosas e parasitárias</td>\n",
       "      <td>Ap Invalidez</td>\n",
       "      <td>A17</td>\n",
       "      <td>Tuberc do Sist Nervoso</td>\n",
       "    </tr>\n",
       "  </tbody>\n",
       "</table>\n",
       "</div>"
      ],
      "text/plain": [
       "    Ano       Sexo  Qde Benefícios Concedidos  \\\n",
       "0  2008  Masculino                          1   \n",
       "1  2008  Masculino                          1   \n",
       "2  2008  Masculino                        112   \n",
       "3  2008  Masculino                         38   \n",
       "4  2008  Masculino                          3   \n",
       "\n",
       "                                    Grupo CID Grupo/Principais Espécies  \\\n",
       "0  Algumas doenças infecciosas e parasitárias              Ap Invalidez   \n",
       "1  Algumas doenças infecciosas e parasitárias              Ap Invalidez   \n",
       "2  Algumas doenças infecciosas e parasitárias              Ap Invalidez   \n",
       "3  Algumas doenças infecciosas e parasitárias              Ap Invalidez   \n",
       "4  Algumas doenças infecciosas e parasitárias              Ap Invalidez   \n",
       "\n",
       "  CID-Índice                              CID-Descrição  \n",
       "0        A02                   Outr Infecc p/Salmonella  \n",
       "1        A04             Outr Infecc Intestinais Bacter  \n",
       "2        A15  Tuberc Respirat c/Conf Bacteriol e Histol  \n",
       "3        A16  Tuberc Vias Respirat s/Conf Bacter Histol  \n",
       "4        A17                     Tuberc do Sist Nervoso  "
      ]
     },
     "execution_count": 7,
     "metadata": {},
     "output_type": "execute_result"
    }
   ],
   "source": [
    "# Adicionar colunas ao DataFrame\n",
    "# Usando 'Endereço' como o nome da coluna\n",
    "# e igualando-o à lista\n",
    "#df['Endereço'] = cep\n",
    "\n",
    "df['CID-Índice'] = CID_Indice\n",
    "df['CID-Descrição'] = CID_Descricao\n",
    "\n",
    "# Remove coluna 'CID10' que foi ajustada separando por tabelas \n",
    "df = df.drop(columns=['CID10'])\n",
    "\n",
    "\n",
    "df.head()"
   ]
  },
  {
   "cell_type": "code",
   "execution_count": 8,
   "metadata": {},
   "outputs": [],
   "source": [
    "# Função que identifica caractere e retorna outro\n",
    "\n",
    "def define_classe(sex):\n",
    "    if sex == 'Masculino':\n",
    "        return 'M'\n",
    "    elif sex == 'Feminino':\n",
    "        return 'F'\n",
    "    \n",
    "df['Sexo'] = df['Sexo'].map(define_classe)"
   ]
  },
  {
   "cell_type": "code",
   "execution_count": 9,
   "metadata": {},
   "outputs": [
    {
     "data": {
      "text/html": [
       "<div>\n",
       "<style scoped>\n",
       "    .dataframe tbody tr th:only-of-type {\n",
       "        vertical-align: middle;\n",
       "    }\n",
       "\n",
       "    .dataframe tbody tr th {\n",
       "        vertical-align: top;\n",
       "    }\n",
       "\n",
       "    .dataframe thead th {\n",
       "        text-align: right;\n",
       "    }\n",
       "</style>\n",
       "<table border=\"1\" class=\"dataframe\">\n",
       "  <thead>\n",
       "    <tr style=\"text-align: right;\">\n",
       "      <th></th>\n",
       "      <th>Ano</th>\n",
       "      <th>Sexo</th>\n",
       "      <th>Qde Benefícios Concedidos</th>\n",
       "      <th>Grupo CID</th>\n",
       "      <th>Grupo/Principais Espécies</th>\n",
       "      <th>CID-Índice</th>\n",
       "      <th>CID-Descrição</th>\n",
       "    </tr>\n",
       "  </thead>\n",
       "  <tbody>\n",
       "    <tr>\n",
       "      <th>0</th>\n",
       "      <td>2008</td>\n",
       "      <td>M</td>\n",
       "      <td>1</td>\n",
       "      <td>Algumas doenças infecciosas e parasitárias</td>\n",
       "      <td>Ap Invalidez</td>\n",
       "      <td>A02</td>\n",
       "      <td>Outr Infecc p/Salmonella</td>\n",
       "    </tr>\n",
       "    <tr>\n",
       "      <th>1</th>\n",
       "      <td>2008</td>\n",
       "      <td>M</td>\n",
       "      <td>1</td>\n",
       "      <td>Algumas doenças infecciosas e parasitárias</td>\n",
       "      <td>Ap Invalidez</td>\n",
       "      <td>A04</td>\n",
       "      <td>Outr Infecc Intestinais Bacter</td>\n",
       "    </tr>\n",
       "    <tr>\n",
       "      <th>2</th>\n",
       "      <td>2008</td>\n",
       "      <td>M</td>\n",
       "      <td>112</td>\n",
       "      <td>Algumas doenças infecciosas e parasitárias</td>\n",
       "      <td>Ap Invalidez</td>\n",
       "      <td>A15</td>\n",
       "      <td>Tuberc Respirat c/Conf Bacteriol e Histol</td>\n",
       "    </tr>\n",
       "    <tr>\n",
       "      <th>3</th>\n",
       "      <td>2008</td>\n",
       "      <td>M</td>\n",
       "      <td>38</td>\n",
       "      <td>Algumas doenças infecciosas e parasitárias</td>\n",
       "      <td>Ap Invalidez</td>\n",
       "      <td>A16</td>\n",
       "      <td>Tuberc Vias Respirat s/Conf Bacter Histol</td>\n",
       "    </tr>\n",
       "    <tr>\n",
       "      <th>4</th>\n",
       "      <td>2008</td>\n",
       "      <td>M</td>\n",
       "      <td>3</td>\n",
       "      <td>Algumas doenças infecciosas e parasitárias</td>\n",
       "      <td>Ap Invalidez</td>\n",
       "      <td>A17</td>\n",
       "      <td>Tuberc do Sist Nervoso</td>\n",
       "    </tr>\n",
       "  </tbody>\n",
       "</table>\n",
       "</div>"
      ],
      "text/plain": [
       "    Ano Sexo  Qde Benefícios Concedidos  \\\n",
       "0  2008    M                          1   \n",
       "1  2008    M                          1   \n",
       "2  2008    M                        112   \n",
       "3  2008    M                         38   \n",
       "4  2008    M                          3   \n",
       "\n",
       "                                    Grupo CID Grupo/Principais Espécies  \\\n",
       "0  Algumas doenças infecciosas e parasitárias              Ap Invalidez   \n",
       "1  Algumas doenças infecciosas e parasitárias              Ap Invalidez   \n",
       "2  Algumas doenças infecciosas e parasitárias              Ap Invalidez   \n",
       "3  Algumas doenças infecciosas e parasitárias              Ap Invalidez   \n",
       "4  Algumas doenças infecciosas e parasitárias              Ap Invalidez   \n",
       "\n",
       "  CID-Índice                              CID-Descrição  \n",
       "0        A02                   Outr Infecc p/Salmonella  \n",
       "1        A04             Outr Infecc Intestinais Bacter  \n",
       "2        A15  Tuberc Respirat c/Conf Bacteriol e Histol  \n",
       "3        A16  Tuberc Vias Respirat s/Conf Bacter Histol  \n",
       "4        A17                     Tuberc do Sist Nervoso  "
      ]
     },
     "execution_count": 9,
     "metadata": {},
     "output_type": "execute_result"
    }
   ],
   "source": [
    "# Criar um Subconjunto dos dados originais\n",
    "# Seleciona a coluna e classifica somente linhas\n",
    "df_SexoM = df[df['Sexo'] == 'M'] \n",
    "df_SexoM.head()"
   ]
  },
  {
   "cell_type": "code",
   "execution_count": 10,
   "metadata": {},
   "outputs": [
    {
     "data": {
      "text/html": [
       "<div>\n",
       "<style scoped>\n",
       "    .dataframe tbody tr th:only-of-type {\n",
       "        vertical-align: middle;\n",
       "    }\n",
       "\n",
       "    .dataframe tbody tr th {\n",
       "        vertical-align: top;\n",
       "    }\n",
       "\n",
       "    .dataframe thead th {\n",
       "        text-align: right;\n",
       "    }\n",
       "</style>\n",
       "<table border=\"1\" class=\"dataframe\">\n",
       "  <thead>\n",
       "    <tr style=\"text-align: right;\">\n",
       "      <th></th>\n",
       "      <th>Ano</th>\n",
       "      <th>Sexo</th>\n",
       "      <th>Qde Benefícios Concedidos</th>\n",
       "      <th>Grupo CID</th>\n",
       "      <th>Grupo/Principais Espécies</th>\n",
       "      <th>CID-Índice</th>\n",
       "      <th>CID-Descrição</th>\n",
       "    </tr>\n",
       "  </thead>\n",
       "  <tbody>\n",
       "    <tr>\n",
       "      <th>4534</th>\n",
       "      <td>2008</td>\n",
       "      <td>F</td>\n",
       "      <td>1</td>\n",
       "      <td>Algumas doenças infecciosas e parasitárias</td>\n",
       "      <td>Ap Invalidez</td>\n",
       "      <td>A00</td>\n",
       "      <td>Colera</td>\n",
       "    </tr>\n",
       "    <tr>\n",
       "      <th>4535</th>\n",
       "      <td>2008</td>\n",
       "      <td>F</td>\n",
       "      <td>1</td>\n",
       "      <td>Algumas doenças infecciosas e parasitárias</td>\n",
       "      <td>Ap Invalidez</td>\n",
       "      <td>A01</td>\n",
       "      <td>Febres Tifoide e Paratifoide</td>\n",
       "    </tr>\n",
       "    <tr>\n",
       "      <th>4536</th>\n",
       "      <td>2008</td>\n",
       "      <td>F</td>\n",
       "      <td>23</td>\n",
       "      <td>Algumas doenças infecciosas e parasitárias</td>\n",
       "      <td>Ap Invalidez</td>\n",
       "      <td>A15</td>\n",
       "      <td>Tuberc Respirat c/Conf Bacteriol e Histol</td>\n",
       "    </tr>\n",
       "    <tr>\n",
       "      <th>4537</th>\n",
       "      <td>2008</td>\n",
       "      <td>F</td>\n",
       "      <td>10</td>\n",
       "      <td>Algumas doenças infecciosas e parasitárias</td>\n",
       "      <td>Ap Invalidez</td>\n",
       "      <td>A16</td>\n",
       "      <td>Tuberc Vias Respirat s/Conf Bacter Histol</td>\n",
       "    </tr>\n",
       "    <tr>\n",
       "      <th>4538</th>\n",
       "      <td>2008</td>\n",
       "      <td>F</td>\n",
       "      <td>1</td>\n",
       "      <td>Algumas doenças infecciosas e parasitárias</td>\n",
       "      <td>Ap Invalidez</td>\n",
       "      <td>A17</td>\n",
       "      <td>Tuberc do Sist Nervoso</td>\n",
       "    </tr>\n",
       "  </tbody>\n",
       "</table>\n",
       "</div>"
      ],
      "text/plain": [
       "       Ano Sexo  Qde Benefícios Concedidos  \\\n",
       "4534  2008    F                          1   \n",
       "4535  2008    F                          1   \n",
       "4536  2008    F                         23   \n",
       "4537  2008    F                         10   \n",
       "4538  2008    F                          1   \n",
       "\n",
       "                                       Grupo CID Grupo/Principais Espécies  \\\n",
       "4534  Algumas doenças infecciosas e parasitárias              Ap Invalidez   \n",
       "4535  Algumas doenças infecciosas e parasitárias              Ap Invalidez   \n",
       "4536  Algumas doenças infecciosas e parasitárias              Ap Invalidez   \n",
       "4537  Algumas doenças infecciosas e parasitárias              Ap Invalidez   \n",
       "4538  Algumas doenças infecciosas e parasitárias              Ap Invalidez   \n",
       "\n",
       "     CID-Índice                              CID-Descrição  \n",
       "4534        A00                                     Colera  \n",
       "4535        A01               Febres Tifoide e Paratifoide  \n",
       "4536        A15  Tuberc Respirat c/Conf Bacteriol e Histol  \n",
       "4537        A16  Tuberc Vias Respirat s/Conf Bacter Histol  \n",
       "4538        A17                     Tuberc do Sist Nervoso  "
      ]
     },
     "execution_count": 10,
     "metadata": {},
     "output_type": "execute_result"
    }
   ],
   "source": [
    "# Criar um Subconjunto dos dados originais\n",
    "# Seleciona a coluna e classifica somente linhas\n",
    "df_SexoF = df[df['Sexo'] == 'F'] \n",
    "df_SexoF.head()"
   ]
  },
  {
   "cell_type": "code",
   "execution_count": 11,
   "metadata": {},
   "outputs": [
    {
     "data": {
      "text/plain": [
       "Ano                           int64\n",
       "Sexo                         object\n",
       "Qde Benefícios Concedidos     int64\n",
       "Grupo CID                    object\n",
       "Grupo/Principais Espécies    object\n",
       "CID-Índice                   object\n",
       "CID-Descrição                object\n",
       "dtype: object"
      ]
     },
     "execution_count": 11,
     "metadata": {},
     "output_type": "execute_result"
    }
   ],
   "source": [
    "# Verificar os tipos da coluna\n",
    "df.dtypes"
   ]
  },
  {
   "cell_type": "markdown",
   "metadata": {},
   "source": [
    "####### Selecionar coluna 'Grupo CID' com casos de paciêntes que são vulneraveis ao COVID19, dados de 2008 à 2017 ##########"
   ]
  },
  {
   "cell_type": "code",
   "execution_count": 12,
   "metadata": {},
   "outputs": [
    {
     "data": {
      "text/plain": [
       "Lesões, envenenamento e algumas outras conseqü    17960\n",
       "Neoplasias [tumores]                              10314\n",
       "Doenças do sistema osteomuscular e do tecido c     8698\n",
       "Doenças do aparelho circulatório                   7188\n",
       "Algumas doenças infecciosas e parasitárias         6947\n",
       "Doenças do sistema nervoso                         5847\n",
       "Transtornos mentais e comportamentais              5173\n",
       "Causas externas de morbidade e de mortalidade      5150\n",
       "Doenças do aparelho digestivo                      4738\n",
       "Doenças da pele e do tecido subcutâneo             4530\n",
       "Doenças do aparelho respiratório                   4374\n",
       "Doenças do olho e anexos                           3995\n",
       "Doenças do aparelho geniturinário                  3860\n",
       "Malformações congênitas, deformidades e anomal     3181\n",
       "Doenças endócrinas, nutricionais e metabólicas     2733\n",
       "Sintomas, sinais e achados anormais de exames      2644\n",
       "Fatores que influenciam o estado de saúde e o      2159\n",
       "Doenças do sangue e dos órgãos hematopoéticos      1843\n",
       "Doenças do ouvido e da apófise mastóide            1432\n",
       "Gravidez, parto e puerpério                        1371\n",
       "Algumas afecções originadas no período perinat      558\n",
       "Name: Grupo CID, dtype: int64"
      ]
     },
     "execution_count": 12,
     "metadata": {},
     "output_type": "execute_result"
    }
   ],
   "source": [
    "df['Grupo CID'].value_counts()"
   ]
  },
  {
   "cell_type": "markdown",
   "metadata": {},
   "source": [
    "# Doenças do aparelho respiratório\n",
    "Quantidade de casos: 4374"
   ]
  },
  {
   "cell_type": "code",
   "execution_count": 13,
   "metadata": {},
   "outputs": [
    {
     "data": {
      "text/html": [
       "<div>\n",
       "<style scoped>\n",
       "    .dataframe tbody tr th:only-of-type {\n",
       "        vertical-align: middle;\n",
       "    }\n",
       "\n",
       "    .dataframe tbody tr th {\n",
       "        vertical-align: top;\n",
       "    }\n",
       "\n",
       "    .dataframe thead th {\n",
       "        text-align: right;\n",
       "    }\n",
       "</style>\n",
       "<table border=\"1\" class=\"dataframe\">\n",
       "  <thead>\n",
       "    <tr style=\"text-align: right;\">\n",
       "      <th></th>\n",
       "      <th>Ano</th>\n",
       "      <th>Sexo</th>\n",
       "      <th>Qde Benefícios Concedidos</th>\n",
       "      <th>Grupo CID</th>\n",
       "      <th>Grupo/Principais Espécies</th>\n",
       "      <th>CID-Índice</th>\n",
       "      <th>CID-Descrição</th>\n",
       "    </tr>\n",
       "  </thead>\n",
       "  <tbody>\n",
       "    <tr>\n",
       "      <th>421</th>\n",
       "      <td>2008</td>\n",
       "      <td>M</td>\n",
       "      <td>1</td>\n",
       "      <td>Doenças do aparelho respiratório</td>\n",
       "      <td>Ap Invalidez</td>\n",
       "      <td>J04</td>\n",
       "      <td>Laringite e Traqueite Agudas</td>\n",
       "    </tr>\n",
       "    <tr>\n",
       "      <th>422</th>\n",
       "      <td>2008</td>\n",
       "      <td>M</td>\n",
       "      <td>13</td>\n",
       "      <td>Doenças do aparelho respiratório</td>\n",
       "      <td>Ap Invalidez</td>\n",
       "      <td>J15</td>\n",
       "      <td>Pneumonia Bacter Ncop</td>\n",
       "    </tr>\n",
       "    <tr>\n",
       "      <th>423</th>\n",
       "      <td>2008</td>\n",
       "      <td>M</td>\n",
       "      <td>2</td>\n",
       "      <td>Doenças do aparelho respiratório</td>\n",
       "      <td>Ap Invalidez</td>\n",
       "      <td>J16</td>\n",
       "      <td>Pneumonia Dev Out Microorg Infecc Espec N</td>\n",
       "    </tr>\n",
       "  </tbody>\n",
       "</table>\n",
       "</div>"
      ],
      "text/plain": [
       "      Ano Sexo  Qde Benefícios Concedidos                         Grupo CID  \\\n",
       "421  2008    M                          1  Doenças do aparelho respiratório   \n",
       "422  2008    M                         13  Doenças do aparelho respiratório   \n",
       "423  2008    M                          2  Doenças do aparelho respiratório   \n",
       "\n",
       "    Grupo/Principais Espécies CID-Índice  \\\n",
       "421              Ap Invalidez        J04   \n",
       "422              Ap Invalidez        J15   \n",
       "423              Ap Invalidez        J16   \n",
       "\n",
       "                                 CID-Descrição  \n",
       "421               Laringite e Traqueite Agudas  \n",
       "422                      Pneumonia Bacter Ncop  \n",
       "423  Pneumonia Dev Out Microorg Infecc Espec N  "
      ]
     },
     "execution_count": 13,
     "metadata": {},
     "output_type": "execute_result"
    }
   ],
   "source": [
    "df_aprespiratorio = df[df['Grupo CID'].str.contains('Doenças do aparelho respiratório')]\n",
    "# CID10 JXX - Doenças do aparelho respiratório\n",
    "df_aprespiratorio.head(3)"
   ]
  },
  {
   "cell_type": "code",
   "execution_count": 14,
   "metadata": {
    "scrolled": true
   },
   "outputs": [
    {
     "data": {
      "text/plain": [
       "(4374, 7)"
      ]
     },
     "execution_count": 14,
     "metadata": {},
     "output_type": "execute_result"
    }
   ],
   "source": [
    "# Quantidade de dados Doenças do aparelho respiratório\n",
    "df_aprespiratorio.shape"
   ]
  },
  {
   "cell_type": "code",
   "execution_count": 15,
   "metadata": {},
   "outputs": [
    {
     "data": {
      "text/plain": [
       "Asma                                         159\n",
       "Outr Doenc Pulmonares Obstrutivas Cronica    157\n",
       "Outr Doenc Pulmonares Intersticiais          123\n",
       "Enfisema                                     119\n",
       "Pneumonite Hipersensibilid Dev Poeiras Or    117\n",
       "                                            ... \n",
       "Nasofaringite Aguda                           25\n",
       "Pneumonia Dev Haemophilus Infuenzae           25\n",
       "Laringite Obstrutiva Aguda e Epiglotite       23\n",
       "Pneumoconiose dos Mineiros de Carvao          23\n",
       "Influenza [Gripe] Devida a Vírus Identifi     12\n",
       "Name: CID-Descrição, Length: 64, dtype: int64"
      ]
     },
     "execution_count": 15,
     "metadata": {},
     "output_type": "execute_result"
    }
   ],
   "source": [
    "# Maior casos\n",
    "df_aprespiratorio['CID-Descrição'].value_counts()"
   ]
  },
  {
   "cell_type": "code",
   "execution_count": 16,
   "metadata": {},
   "outputs": [
    {
     "data": {
      "text/html": [
       "<div>\n",
       "<style scoped>\n",
       "    .dataframe tbody tr th:only-of-type {\n",
       "        vertical-align: middle;\n",
       "    }\n",
       "\n",
       "    .dataframe tbody tr th {\n",
       "        vertical-align: top;\n",
       "    }\n",
       "\n",
       "    .dataframe thead th {\n",
       "        text-align: right;\n",
       "    }\n",
       "</style>\n",
       "<table border=\"1\" class=\"dataframe\">\n",
       "  <thead>\n",
       "    <tr style=\"text-align: right;\">\n",
       "      <th></th>\n",
       "      <th>Ano</th>\n",
       "      <th>Sexo</th>\n",
       "      <th>Qde Benefícios Concedidos</th>\n",
       "      <th>Grupo CID</th>\n",
       "      <th>Grupo/Principais Espécies</th>\n",
       "      <th>CID-Índice</th>\n",
       "      <th>CID-Descrição</th>\n",
       "    </tr>\n",
       "  </thead>\n",
       "  <tbody>\n",
       "    <tr>\n",
       "      <th>421</th>\n",
       "      <td>2008</td>\n",
       "      <td>M</td>\n",
       "      <td>1</td>\n",
       "      <td>Doenças do aparelho respiratório</td>\n",
       "      <td>Ap Invalidez</td>\n",
       "      <td>J04</td>\n",
       "      <td>Laringite e Traqueite Agudas</td>\n",
       "    </tr>\n",
       "    <tr>\n",
       "      <th>422</th>\n",
       "      <td>2008</td>\n",
       "      <td>M</td>\n",
       "      <td>13</td>\n",
       "      <td>Doenças do aparelho respiratório</td>\n",
       "      <td>Ap Invalidez</td>\n",
       "      <td>J15</td>\n",
       "      <td>Pneumonia Bacter Ncop</td>\n",
       "    </tr>\n",
       "    <tr>\n",
       "      <th>423</th>\n",
       "      <td>2008</td>\n",
       "      <td>M</td>\n",
       "      <td>2</td>\n",
       "      <td>Doenças do aparelho respiratório</td>\n",
       "      <td>Ap Invalidez</td>\n",
       "      <td>J16</td>\n",
       "      <td>Pneumonia Dev Out Microorg Infecc Espec N</td>\n",
       "    </tr>\n",
       "    <tr>\n",
       "      <th>424</th>\n",
       "      <td>2008</td>\n",
       "      <td>M</td>\n",
       "      <td>13</td>\n",
       "      <td>Doenças do aparelho respiratório</td>\n",
       "      <td>Ap Invalidez</td>\n",
       "      <td>J18</td>\n",
       "      <td>Pneumonia p/Microorg Ne</td>\n",
       "    </tr>\n",
       "    <tr>\n",
       "      <th>425</th>\n",
       "      <td>2008</td>\n",
       "      <td>M</td>\n",
       "      <td>9</td>\n",
       "      <td>Doenças do aparelho respiratório</td>\n",
       "      <td>Ap Invalidez</td>\n",
       "      <td>J20</td>\n",
       "      <td>Bronquite Aguda</td>\n",
       "    </tr>\n",
       "  </tbody>\n",
       "</table>\n",
       "</div>"
      ],
      "text/plain": [
       "      Ano Sexo  Qde Benefícios Concedidos                         Grupo CID  \\\n",
       "421  2008    M                          1  Doenças do aparelho respiratório   \n",
       "422  2008    M                         13  Doenças do aparelho respiratório   \n",
       "423  2008    M                          2  Doenças do aparelho respiratório   \n",
       "424  2008    M                         13  Doenças do aparelho respiratório   \n",
       "425  2008    M                          9  Doenças do aparelho respiratório   \n",
       "\n",
       "    Grupo/Principais Espécies CID-Índice  \\\n",
       "421              Ap Invalidez        J04   \n",
       "422              Ap Invalidez        J15   \n",
       "423              Ap Invalidez        J16   \n",
       "424              Ap Invalidez        J18   \n",
       "425              Ap Invalidez        J20   \n",
       "\n",
       "                                 CID-Descrição  \n",
       "421               Laringite e Traqueite Agudas  \n",
       "422                      Pneumonia Bacter Ncop  \n",
       "423  Pneumonia Dev Out Microorg Infecc Espec N  \n",
       "424                    Pneumonia p/Microorg Ne  \n",
       "425                            Bronquite Aguda  "
      ]
     },
     "execution_count": 16,
     "metadata": {},
     "output_type": "execute_result"
    }
   ],
   "source": [
    "import re\n",
    "\n",
    "# Expressão regular é uma sequência de caracteres \n",
    "#usados principalmente para encontrar e substituir padrões numa string ou num arquivo.\n",
    "\n",
    "df_apJXX = df_aprespiratorio.loc[df['CID-Índice'].str.contains('J', flags=re.I, regex=True)]\n",
    "df_apJXX.head(5)"
   ]
  },
  {
   "cell_type": "code",
   "execution_count": 17,
   "metadata": {},
   "outputs": [
    {
     "data": {
      "text/plain": [
       "<matplotlib.axes._subplots.AxesSubplot at 0x1a83e8526c8>"
      ]
     },
     "execution_count": 17,
     "metadata": {},
     "output_type": "execute_result"
    },
    {
     "data": {
      "image/png": "[encoded data removed]",
      "text/plain": [
       "<Figure size 432x288 with 1 Axes>"
      ]
     },
     "metadata": {
      "needs_background": "light"
     },
     "output_type": "display_data"
    }
   ],
   "source": [
    "df_apJXX[\"Grupo/Principais Espécies\"].value_counts().plot.bar()"
   ]
  },
  {
   "cell_type": "code",
   "execution_count": 18,
   "metadata": {},
   "outputs": [
    {
     "data": {
      "text/plain": [
       "<matplotlib.axes._subplots.AxesSubplot at 0x1a83e7ece88>"
      ]
     },
     "execution_count": 18,
     "metadata": {},
     "output_type": "execute_result"
    },
    {
     "data": {
      "image/png": "[encoded data removed]",
      "text/plain": [
       "<Figure size 432x288 with 1 Axes>"
      ]
     },
     "metadata": {
      "needs_background": "light"
     },
     "output_type": "display_data"
    }
   ],
   "source": [
    "df_apJXX[\"Sexo\"].value_counts().plot.bar()"
   ]
  },
  {
   "cell_type": "code",
   "execution_count": 22,
   "metadata": {},
   "outputs": [
    {
     "data": {
      "text/plain": [
       "<matplotlib.axes._subplots.AxesSubplot at 0x1a83e646b48>"
      ]
     },
     "execution_count": 22,
     "metadata": {},
     "output_type": "execute_result"
    },
    {
     "data": {
      "image/png": "[encoded data removed]",
      "text/plain": [
       "<Figure size 432x288 with 1 Axes>"
      ]
     },
     "metadata": {
      "needs_background": "light"
     },
     "output_type": "display_data"
    }
   ],
   "source": [
    "df_apJXX[\"Ano\"].value_counts().plot.bar()"
   ]
  },
  {
   "cell_type": "code",
   "execution_count": 19,
   "metadata": {
    "scrolled": true
   },
   "outputs": [
    {
     "data": {
      "image/png": "[encoded data removed]",
      "text/plain": [
       "<Figure size 432x288 with 1 Axes>"
      ]
     },
     "metadata": {
      "needs_background": "light"
     },
     "output_type": "display_data"
    }
   ],
   "source": [
    "# Exibir o gráfico de linhas com marcação em cada ponto\n",
    "sns.pointplot(x='Ano', y='Qde Benefícios Concedidos', data=df_apJXX)\n",
    "\n",
    "# Ajustar legenda\n",
    "plt.xticks(rotation=0)\n",
    "plt.show()"
   ]
  },
  {
   "cell_type": "code",
   "execution_count": 20,
   "metadata": {},
   "outputs": [
    {
     "data": {
      "text/html": [
       "<div>\n",
       "<style scoped>\n",
       "    .dataframe tbody tr th:only-of-type {\n",
       "        vertical-align: middle;\n",
       "    }\n",
       "\n",
       "    .dataframe tbody tr th {\n",
       "        vertical-align: top;\n",
       "    }\n",
       "\n",
       "    .dataframe thead th {\n",
       "        text-align: right;\n",
       "    }\n",
       "</style>\n",
       "<table border=\"1\" class=\"dataframe\">\n",
       "  <thead>\n",
       "    <tr style=\"text-align: right;\">\n",
       "      <th></th>\n",
       "      <th>Ano</th>\n",
       "      <th>Sexo</th>\n",
       "      <th>Qde Benefícios Concedidos</th>\n",
       "      <th>Grupo CID</th>\n",
       "      <th>Grupo/Principais Espécies</th>\n",
       "      <th>CID-Índice</th>\n",
       "      <th>CID-Descrição</th>\n",
       "    </tr>\n",
       "  </thead>\n",
       "  <tbody>\n",
       "    <tr>\n",
       "      <th>421</th>\n",
       "      <td>2008</td>\n",
       "      <td>M</td>\n",
       "      <td>1</td>\n",
       "      <td>Doenças do aparelho respiratório</td>\n",
       "      <td>Ap Invalidez</td>\n",
       "      <td>J04</td>\n",
       "      <td>Laringite e Traqueite Agudas</td>\n",
       "    </tr>\n",
       "    <tr>\n",
       "      <th>422</th>\n",
       "      <td>2008</td>\n",
       "      <td>M</td>\n",
       "      <td>13</td>\n",
       "      <td>Doenças do aparelho respiratório</td>\n",
       "      <td>Ap Invalidez</td>\n",
       "      <td>J15</td>\n",
       "      <td>Pneumonia Bacter Ncop</td>\n",
       "    </tr>\n",
       "    <tr>\n",
       "      <th>423</th>\n",
       "      <td>2008</td>\n",
       "      <td>M</td>\n",
       "      <td>2</td>\n",
       "      <td>Doenças do aparelho respiratório</td>\n",
       "      <td>Ap Invalidez</td>\n",
       "      <td>J16</td>\n",
       "      <td>Pneumonia Dev Out Microorg Infecc Espec N</td>\n",
       "    </tr>\n",
       "    <tr>\n",
       "      <th>424</th>\n",
       "      <td>2008</td>\n",
       "      <td>M</td>\n",
       "      <td>13</td>\n",
       "      <td>Doenças do aparelho respiratório</td>\n",
       "      <td>Ap Invalidez</td>\n",
       "      <td>J18</td>\n",
       "      <td>Pneumonia p/Microorg Ne</td>\n",
       "    </tr>\n",
       "    <tr>\n",
       "      <th>425</th>\n",
       "      <td>2008</td>\n",
       "      <td>M</td>\n",
       "      <td>9</td>\n",
       "      <td>Doenças do aparelho respiratório</td>\n",
       "      <td>Ap Invalidez</td>\n",
       "      <td>J20</td>\n",
       "      <td>Bronquite Aguda</td>\n",
       "    </tr>\n",
       "    <tr>\n",
       "      <th>426</th>\n",
       "      <td>2008</td>\n",
       "      <td>M</td>\n",
       "      <td>1</td>\n",
       "      <td>Doenças do aparelho respiratório</td>\n",
       "      <td>Ap Invalidez</td>\n",
       "      <td>J21</td>\n",
       "      <td>Bronquiolite Aguda</td>\n",
       "    </tr>\n",
       "    <tr>\n",
       "      <th>427</th>\n",
       "      <td>2008</td>\n",
       "      <td>M</td>\n",
       "      <td>2</td>\n",
       "      <td>Doenças do aparelho respiratório</td>\n",
       "      <td>Ap Invalidez</td>\n",
       "      <td>J32</td>\n",
       "      <td>Sinusite Cronica</td>\n",
       "    </tr>\n",
       "    <tr>\n",
       "      <th>428</th>\n",
       "      <td>2008</td>\n",
       "      <td>M</td>\n",
       "      <td>2</td>\n",
       "      <td>Doenças do aparelho respiratório</td>\n",
       "      <td>Ap Invalidez</td>\n",
       "      <td>J37</td>\n",
       "      <td>Laringite e Laringotraqueite Cronicas</td>\n",
       "    </tr>\n",
       "    <tr>\n",
       "      <th>429</th>\n",
       "      <td>2008</td>\n",
       "      <td>M</td>\n",
       "      <td>15</td>\n",
       "      <td>Doenças do aparelho respiratório</td>\n",
       "      <td>Ap Invalidez</td>\n",
       "      <td>J38</td>\n",
       "      <td>Doenc das Cordas Vocais e da Laringe Ncop</td>\n",
       "    </tr>\n",
       "    <tr>\n",
       "      <th>430</th>\n",
       "      <td>2008</td>\n",
       "      <td>M</td>\n",
       "      <td>4</td>\n",
       "      <td>Doenças do aparelho respiratório</td>\n",
       "      <td>Ap Invalidez</td>\n",
       "      <td>J39</td>\n",
       "      <td>Outr Doenc das Vias Aereas Super</td>\n",
       "    </tr>\n",
       "    <tr>\n",
       "      <th>431</th>\n",
       "      <td>2008</td>\n",
       "      <td>M</td>\n",
       "      <td>17</td>\n",
       "      <td>Doenças do aparelho respiratório</td>\n",
       "      <td>Ap Invalidez</td>\n",
       "      <td>J40</td>\n",
       "      <td>Bronquite Ne Como Aguda ou Cronica</td>\n",
       "    </tr>\n",
       "    <tr>\n",
       "      <th>432</th>\n",
       "      <td>2008</td>\n",
       "      <td>M</td>\n",
       "      <td>15</td>\n",
       "      <td>Doenças do aparelho respiratório</td>\n",
       "      <td>Ap Invalidez</td>\n",
       "      <td>J41</td>\n",
       "      <td>Bronquite Cronica Simples e a Mucopurulen</td>\n",
       "    </tr>\n",
       "    <tr>\n",
       "      <th>433</th>\n",
       "      <td>2008</td>\n",
       "      <td>M</td>\n",
       "      <td>50</td>\n",
       "      <td>Doenças do aparelho respiratório</td>\n",
       "      <td>Ap Invalidez</td>\n",
       "      <td>J42</td>\n",
       "      <td>Bronquite Cronica Ne</td>\n",
       "    </tr>\n",
       "    <tr>\n",
       "      <th>434</th>\n",
       "      <td>2008</td>\n",
       "      <td>M</td>\n",
       "      <td>331</td>\n",
       "      <td>Doenças do aparelho respiratório</td>\n",
       "      <td>Ap Invalidez</td>\n",
       "      <td>J43</td>\n",
       "      <td>Enfisema</td>\n",
       "    </tr>\n",
       "    <tr>\n",
       "      <th>435</th>\n",
       "      <td>2008</td>\n",
       "      <td>M</td>\n",
       "      <td>809</td>\n",
       "      <td>Doenças do aparelho respiratório</td>\n",
       "      <td>Ap Invalidez</td>\n",
       "      <td>J44</td>\n",
       "      <td>Outr Doenc Pulmonares Obstrutivas Cronica</td>\n",
       "    </tr>\n",
       "    <tr>\n",
       "      <th>436</th>\n",
       "      <td>2008</td>\n",
       "      <td>M</td>\n",
       "      <td>207</td>\n",
       "      <td>Doenças do aparelho respiratório</td>\n",
       "      <td>Ap Invalidez</td>\n",
       "      <td>J45</td>\n",
       "      <td>Asma</td>\n",
       "    </tr>\n",
       "    <tr>\n",
       "      <th>437</th>\n",
       "      <td>2008</td>\n",
       "      <td>M</td>\n",
       "      <td>7</td>\n",
       "      <td>Doenças do aparelho respiratório</td>\n",
       "      <td>Ap Invalidez</td>\n",
       "      <td>J46</td>\n",
       "      <td>Estado de Mal Asmatico</td>\n",
       "    </tr>\n",
       "    <tr>\n",
       "      <th>438</th>\n",
       "      <td>2008</td>\n",
       "      <td>M</td>\n",
       "      <td>68</td>\n",
       "      <td>Doenças do aparelho respiratório</td>\n",
       "      <td>Ap Invalidez</td>\n",
       "      <td>J47</td>\n",
       "      <td>Bronquectasia</td>\n",
       "    </tr>\n",
       "    <tr>\n",
       "      <th>439</th>\n",
       "      <td>2008</td>\n",
       "      <td>M</td>\n",
       "      <td>3</td>\n",
       "      <td>Doenças do aparelho respiratório</td>\n",
       "      <td>Ap Invalidez</td>\n",
       "      <td>J60</td>\n",
       "      <td>Pneumoconiose dos Mineiros de Carvao</td>\n",
       "    </tr>\n",
       "    <tr>\n",
       "      <th>440</th>\n",
       "      <td>2008</td>\n",
       "      <td>M</td>\n",
       "      <td>2</td>\n",
       "      <td>Doenças do aparelho respiratório</td>\n",
       "      <td>Ap Invalidez</td>\n",
       "      <td>J61</td>\n",
       "      <td>Pneumoconiose Dev Amianto Outr Fibr Miner</td>\n",
       "    </tr>\n",
       "  </tbody>\n",
       "</table>\n",
       "</div>"
      ],
      "text/plain": [
       "      Ano Sexo  Qde Benefícios Concedidos                         Grupo CID  \\\n",
       "421  2008    M                          1  Doenças do aparelho respiratório   \n",
       "422  2008    M                         13  Doenças do aparelho respiratório   \n",
       "423  2008    M                          2  Doenças do aparelho respiratório   \n",
       "424  2008    M                         13  Doenças do aparelho respiratório   \n",
       "425  2008    M                          9  Doenças do aparelho respiratório   \n",
       "426  2008    M                          1  Doenças do aparelho respiratório   \n",
       "427  2008    M                          2  Doenças do aparelho respiratório   \n",
       "428  2008    M                          2  Doenças do aparelho respiratório   \n",
       "429  2008    M                         15  Doenças do aparelho respiratório   \n",
       "430  2008    M                          4  Doenças do aparelho respiratório   \n",
       "431  2008    M                         17  Doenças do aparelho respiratório   \n",
       "432  2008    M                         15  Doenças do aparelho respiratório   \n",
       "433  2008    M                         50  Doenças do aparelho respiratório   \n",
       "434  2008    M                        331  Doenças do aparelho respiratório   \n",
       "435  2008    M                        809  Doenças do aparelho respiratório   \n",
       "436  2008    M                        207  Doenças do aparelho respiratório   \n",
       "437  2008    M                          7  Doenças do aparelho respiratório   \n",
       "438  2008    M                         68  Doenças do aparelho respiratório   \n",
       "439  2008    M                          3  Doenças do aparelho respiratório   \n",
       "440  2008    M                          2  Doenças do aparelho respiratório   \n",
       "\n",
       "    Grupo/Principais Espécies CID-Índice  \\\n",
       "421              Ap Invalidez        J04   \n",
       "422              Ap Invalidez        J15   \n",
       "423              Ap Invalidez        J16   \n",
       "424              Ap Invalidez        J18   \n",
       "425              Ap Invalidez        J20   \n",
       "426              Ap Invalidez        J21   \n",
       "427              Ap Invalidez        J32   \n",
       "428              Ap Invalidez        J37   \n",
       "429              Ap Invalidez        J38   \n",
       "430              Ap Invalidez        J39   \n",
       "431              Ap Invalidez        J40   \n",
       "432              Ap Invalidez        J41   \n",
       "433              Ap Invalidez        J42   \n",
       "434              Ap Invalidez        J43   \n",
       "435              Ap Invalidez        J44   \n",
       "436              Ap Invalidez        J45   \n",
       "437              Ap Invalidez        J46   \n",
       "438              Ap Invalidez        J47   \n",
       "439              Ap Invalidez        J60   \n",
       "440              Ap Invalidez        J61   \n",
       "\n",
       "                                 CID-Descrição  \n",
       "421               Laringite e Traqueite Agudas  \n",
       "422                      Pneumonia Bacter Ncop  \n",
       "423  Pneumonia Dev Out Microorg Infecc Espec N  \n",
       "424                    Pneumonia p/Microorg Ne  \n",
       "425                            Bronquite Aguda  \n",
       "426                         Bronquiolite Aguda  \n",
       "427                           Sinusite Cronica  \n",
       "428      Laringite e Laringotraqueite Cronicas  \n",
       "429  Doenc das Cordas Vocais e da Laringe Ncop  \n",
       "430           Outr Doenc das Vias Aereas Super  \n",
       "431         Bronquite Ne Como Aguda ou Cronica  \n",
       "432  Bronquite Cronica Simples e a Mucopurulen  \n",
       "433                       Bronquite Cronica Ne  \n",
       "434                                   Enfisema  \n",
       "435  Outr Doenc Pulmonares Obstrutivas Cronica  \n",
       "436                                       Asma  \n",
       "437                     Estado de Mal Asmatico  \n",
       "438                              Bronquectasia  \n",
       "439       Pneumoconiose dos Mineiros de Carvao  \n",
       "440  Pneumoconiose Dev Amianto Outr Fibr Miner  "
      ]
     },
     "execution_count": 20,
     "metadata": {},
     "output_type": "execute_result"
    }
   ],
   "source": [
    "df_apJXX.head(20)"
   ]
  },
  {
   "cell_type": "code",
   "execution_count": 21,
   "metadata": {},
   "outputs": [
    {
     "ename": "NameError",
     "evalue": "name 'df_apJ2017' is not defined",
     "output_type": "error",
     "traceback": [
      "\u001b[1;31m---------------------------------------------------------------------------\u001b[0m",
      "\u001b[1;31mNameError\u001b[0m                                 Traceback (most recent call last)",
      "\u001b[1;32m<ipython-input-21-3b0815c608ca>\u001b[0m in \u001b[0;36m<module>\u001b[1;34m\u001b[0m\n\u001b[0;32m      1\u001b[0m \u001b[1;31m# Total de concessões no ano\u001b[0m\u001b[1;33m\u001b[0m\u001b[1;33m\u001b[0m\u001b[1;33m\u001b[0m\u001b[0m\n\u001b[1;32m----> 2\u001b[1;33m \u001b[0mdf_apJ2017\u001b[0m\u001b[1;33m[\u001b[0m\u001b[1;34m\"Qde Benefícios Concedidos\"\u001b[0m\u001b[1;33m]\u001b[0m\u001b[1;33m.\u001b[0m\u001b[0msum\u001b[0m\u001b[1;33m(\u001b[0m\u001b[1;33m)\u001b[0m\u001b[1;33m\u001b[0m\u001b[1;33m\u001b[0m\u001b[0m\n\u001b[0m",
      "\u001b[1;31mNameError\u001b[0m: name 'df_apJ2017' is not defined"
     ]
    }
   ],
   "source": [
    "# Total de concessões no ano\n",
    "df_apJ2017[\"Qde Benefícios Concedidos\"].sum()\n"
   ]
  },
  {
   "cell_type": "code",
   "execution_count": null,
   "metadata": {},
   "outputs": [],
   "source": [
    "#ano = int(input(''))\n",
    "\n",
    "ano = 2008\n",
    "\n",
    "while ano <= 2017:\n",
    "    anox = df_apJXX[df_apJXX['Ano'] == ano]\n",
    "    anoy = anox[\"Qde Benefícios Concedidos\"].sum()\n",
    "    print(\"Ano\", ano)\n",
    "    print(anoy)\n",
    "    ano += 1\n",
    "else:\n",
    "    print \n",
    "    \n"
   ]
  },
  {
   "cell_type": "code",
   "execution_count": null,
   "metadata": {},
   "outputs": [],
   "source": [
    "# As 3 maiores concessões no ano de 2017\n",
    "df_apJ2017.nlargest(3,'Qde Benefícios Concedidos')"
   ]
  },
  {
   "cell_type": "code",
   "execution_count": null,
   "metadata": {
    "scrolled": true
   },
   "outputs": [],
   "source": [
    "# Total de concessões no ano de 2017\n",
    "df_apJ2017[\"Qde Benefícios Concedidos\"].sum()"
   ]
  },
  {
   "cell_type": "code",
   "execution_count": null,
   "metadata": {},
   "outputs": [],
   "source": [
    "# Função que identifica caractere e retorna outro\n",
    "\n",
    "#def define_classe(sex):\n",
    "#    if sex == 'M':\n",
    "#        return 'PRIMEIRO'\n",
    "#    elif sex == 'F':\n",
    "#        return 'SEGUNDO'\n",
    "\n",
    "#df_apJ2017['CLASSE'] =df_apJ2017['Sexo'].map(define_classe)"
   ]
  },
  {
   "cell_type": "code",
   "execution_count": null,
   "metadata": {},
   "outputs": [],
   "source": [
    "# Função que identifica caractere e retorna outro\n",
    "\n",
    "\n",
    "\n",
    "def define_classe(sex):\n",
    "    item = 0\n",
    "    for item in [\"J0\"+str(i) for i in range(7)]:\n",
    "        if sex == item:\n",
    "            return 'Infecções agudas das vias aéreas superiores'\n",
    "    i = 10\n",
    "    for item in [\"J\"+str(i) for i in range(19)]:\n",
    "        if sex == item:\n",
    "            return 'Influenza [gripe] e pneumonia'\n",
    "    \n",
    "    i = 20\n",
    "    for item in [\"J\"+str(i) for i in range(23)]:\n",
    "        if sex == item:\n",
    "            return 'Outras infecções agudas das vias aéreas inferiores'\n",
    "        \n",
    "    i = 30\n",
    "    for item in [\"J\"+str(i) for i in range(40)]:\n",
    "        if sex == item:\n",
    "            return 'Outras doenças das vias aéreas superiores'\n",
    "    \n",
    "    i = 40\n",
    "    for item in [\"J\"+str(i) for i in range(49)]:\n",
    "        if sex == item:\n",
    "            return 'Doenças crônicas das vias aéreas inferiores'\n",
    "\n",
    "df_apJ2017['CID-Classe'] = df_apJ2017['CID-Índice'].map(define_classe)"
   ]
  },
  {
   "cell_type": "code",
   "execution_count": null,
   "metadata": {
    "scrolled": true
   },
   "outputs": [],
   "source": [
    "df_apJ2017.head(20)"
   ]
  },
  {
   "cell_type": "code",
   "execution_count": null,
   "metadata": {},
   "outputs": [],
   "source": [
    "\n",
    "\n",
    "for item in [\"J0\"+str(i) for i in range(6)]:\n",
    "    print (item)"
   ]
  },
  {
   "cell_type": "code",
   "execution_count": null,
   "metadata": {},
   "outputs": [],
   "source": [
    "#Para Salvar arquivo em CSV\n",
    "df.to_csv('BD_BASE2.csv',encoding=\"cp1252\")"
   ]
  },
  {
   "cell_type": "code",
   "execution_count": null,
   "metadata": {},
   "outputs": [],
   "source": [
    "#Para Salvar arquivo em CSV\n",
    "df_aprespiratorio.to_csv('BD_CID_APARELHO_RESPIRATORIO.csv',encoding=\"cp1252\")"
   ]
  }
 ],
 "metadata": {
  "kernelspec": {
   "display_name": "Python 3",
   "language": "python",
   "name": "python3"
  },
  "language_info": {
   "codemirror_mode": {
    "name": "ipython",
    "version": 3
   },
   "file_extension": ".py",
   "mimetype": "text/x-python",
   "name": "python",
   "nbconvert_exporter": "python",
   "pygments_lexer": "ipython3",
   "version": "3.7.6"
  }
 },
 "nbformat": 4,
 "nbformat_minor": 4
}
