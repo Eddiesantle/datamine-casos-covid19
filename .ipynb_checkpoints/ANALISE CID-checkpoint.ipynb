{
 "cells": [
  {
   "cell_type": "markdown",
   "metadata": {},
   "source": [
    "Benefícios por Incapacidade Concedidos por Classificação Internacional de Doenças (CID)\n",
    "\n",
    "Benefícios concedidos pela Classificação Internacional de Doenças (CID-10), grupos de espécie \n",
    "específicos, clientela, sexo do beneficiário e ano da Data de Despacho do Beneficio (DDB). Não inclui \n",
    "pensões alimentícias, desdobramentos de pensões por morte nem benefícios de prestação única. Considera \n",
    "apenas espécies de 'aposentadorias por invalidez' e 'auxílios-doença'.\n",
    "\n",
    "# BANCO DE DADOS da disciplina de DATAMINING \n",
    "    \n",
    "Com base nos dados da DADOSGOV(http://www.dados.gov.br) vamos analisar os casos de paciêntes vulneraveis ao COVID19 \n",
    "\n",
    "- Seleção: Escolher um subconjunto de dados abas, colunas e linhas relevantes.\n",
    "- Limpesa: Retirar abas, colunas e linhas irrelevantes.\n",
    "- Enriquecer: Adicionar abas, colunas e linhas de outra origens de dados.\n",
    "- Enriquecer Criar: Criar um valor novo que não existe(null) colunas e linhas.\n",
    "- Transformação: Altera dados com objetivo de padronizar.\n",
    "\n",
    "Link -> http://www.dados.gov.br/dataset/beneficios-por-incapacidade-concedidos-por-classificacao-internacional-de-doencas-cid10\n",
    "\n",
    "Arquivo -> CON10.csv"
   ]
  },
  {
   "cell_type": "code",
   "execution_count": null,
   "metadata": {},
   "outputs": [],
   "source": [
    "# Importando bibliotecas\n",
    "# Por convenção pandas é chamado pd\n",
    "import pandas as pd\n",
    "import numpy as np\n",
    "# Configurando o matplotlib\n",
    "%matplotlib inline"
   ]
  },
  {
   "cell_type": "markdown",
   "metadata": {},
   "source": [
    "# ANÁLISE CID Doenças COVID - 19"
   ]
  },
  {
   "cell_type": "code",
   "execution_count": null,
   "metadata": {},
   "outputs": [],
   "source": [
    "# Carregar arquivo .csv\n",
    "# Pandas vai converter o arquivo em um Dataframe(Quadradoo de dados) \"Semelhante a planilhas de exell\".\n",
    "# Por convenção chamamos DataFrame de df\n",
    "# df = pd.read_csv(\"Credito_de_Estados_e_Municipios.csv\")\n",
    "\n",
    "# Quando o arquivo é separado por \";\"  informamos o separador (sep=\";\")\n",
    "# Quando o arquivo é codificado com cp1252 formato excell (encoding=\"cp1252\")\n",
    "df = pd.read_csv(\"CON10.csv\", encoding=\"cp1252\", )\n",
    "\n",
    "\n",
    "df.head(5)"
   ]
  },
  {
   "cell_type": "code",
   "execution_count": null,
   "metadata": {},
   "outputs": [],
   "source": [
    "# Descreve e conta itens de uma determinada coluna\n",
    "df['Grupo CID'].value_counts()"
   ]
  },
  {
   "cell_type": "markdown",
   "metadata": {},
   "source": [
    "# Analize de Grupo CID Doenças do aparelho digestivo"
   ]
  },
  {
   "cell_type": "code",
   "execution_count": null,
   "metadata": {},
   "outputs": [],
   "source": [
    "df_digestivoK = df[df['Grupo CID'].str.contains('Doenças do aparelho digestivo')]\n",
    "# CID10 KXX - Doenças do aparelho digestivo\n",
    "df_digestivoK.head()"
   ]
  },
  {
   "cell_type": "code",
   "execution_count": null,
   "metadata": {},
   "outputs": [],
   "source": [
    "df_digestivoK['CID10'].value_counts()"
   ]
  },
  {
   "cell_type": "code",
   "execution_count": null,
   "metadata": {},
   "outputs": [],
   "source": [
    "df_digestivoK[\"Espécie\"].value_counts().plot.bar()"
   ]
  },
  {
   "cell_type": "markdown",
   "metadata": {},
   "source": [
    "# Análise de Grupo CID Doenças do aparelho respiratório"
   ]
  },
  {
   "cell_type": "code",
   "execution_count": null,
   "metadata": {},
   "outputs": [],
   "source": [
    "df_pulmonarJ = df[df['Grupo CID'].str.contains('Doenças do aparelho respiratório')]\n",
    "# CID10 JXX - Doenças do aparelho respiratório\n",
    "df_pulmonarJ.head(5)"
   ]
  },
  {
   "cell_type": "code",
   "execution_count": null,
   "metadata": {},
   "outputs": [],
   "source": [
    "df_pulmonarJ['Grupo/Principais Espécies'].value_counts()"
   ]
  },
  {
   "cell_type": "markdown",
   "metadata": {},
   "source": [
    "# Análise de Grupo CID doenças infecciosas e parasitárias"
   ]
  },
  {
   "cell_type": "code",
   "execution_count": null,
   "metadata": {},
   "outputs": [],
   "source": [
    "df_epidemi = df[df['Grupo CID'].str.contains('Algumas doenças infecciosas e parasitárias')]\n",
    "# epidemi - Algumas doenças infecciosas e parasitárias\n",
    "df_epidemi.head()"
   ]
  }
 ],
 "metadata": {
  "kernelspec": {
   "display_name": "Python 3",
   "language": "python",
   "name": "python3"
  },
  "language_info": {
   "codemirror_mode": {
    "name": "ipython",
    "version": 3
   },
   "file_extension": ".py",
   "mimetype": "text/x-python",
   "name": "python",
   "nbconvert_exporter": "python",
   "pygments_lexer": "ipython3",
   "version": "3.7.6"
  }
 },
 "nbformat": 4,
 "nbformat_minor": 4
}
