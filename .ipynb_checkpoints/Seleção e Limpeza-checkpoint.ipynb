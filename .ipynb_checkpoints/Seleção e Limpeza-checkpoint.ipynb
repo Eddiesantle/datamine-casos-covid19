{
 "cells": [
  {
   "cell_type": "markdown",
   "metadata": {},
   "source": [
    "Benefícios por Incapacidade Concedidos por Classificação Internacional de Doenças (CID)\n",
    "\n",
    "Benefícios concedidos pela Classificação Internacional de Doenças (CID-10), grupos de espécie \n",
    "específicos, clientela, sexo do beneficiário e ano da Data de Despacho do Beneficio (DDB). Não inclui \n",
    "pensões alimentícias, desdobramentos de pensões por morte nem benefícios de prestação única. Considera \n",
    "apenas espécies de 'aposentadorias por invalidez' e 'auxílios-doença'.\n",
    "\n",
    "# BANCO DE DADOS da disciplina de DATAMINING \n",
    "    \n",
    "Com base nos dados da DADOSGOV(http://www.dados.gov.br) vamos analisar os casos de paciêntes vulneraveis ao COVID19 \n",
    "\n",
    "- Seleção: Escolher um subconjunto de dados abas, colunas e linhas relevantes.\n",
    "- Limpesa: Retirar abas, colunas e linhas irrelevantes.\n",
    "- Enriquecer: Adicionar abas, colunas e linhas de outra origens de dados.\n",
    "- Enriquecer Criar: Criar um valor novo que não existe(null) colunas e linhas.\n",
    "- Transformação: Altera dados com objetivo de padronizar.\n",
    "\n",
    "Link -> http://www.dados.gov.br/dataset/beneficios-por-incapacidade-concedidos-por-classificacao-internacional-de-doencas-cid10\n",
    "\n",
    "Arquivo -> CON10.csv"
   ]
  },
  {
   "cell_type": "code",
   "execution_count": 1,
   "metadata": {},
   "outputs": [],
   "source": [
    "# Importando bibliotecas\n",
    "# Por convenção pandas é chamado pd\n",
    "import pandas as pd\n",
    "import numpy as np\n",
    "# Configurando o matplotlib\n",
    "%matplotlib inline"
   ]
  },
  {
   "cell_type": "markdown",
   "metadata": {},
   "source": [
    "## Método - SELEÇÃO E LIMPEZA"
   ]
  },
  {
   "cell_type": "code",
   "execution_count": 2,
   "metadata": {},
   "outputs": [
    {
     "data": {
      "text/html": [
       "<div>\n",
       "<style scoped>\n",
       "    .dataframe tbody tr th:only-of-type {\n",
       "        vertical-align: middle;\n",
       "    }\n",
       "\n",
       "    .dataframe tbody tr th {\n",
       "        vertical-align: top;\n",
       "    }\n",
       "\n",
       "    .dataframe thead th {\n",
       "        text-align: right;\n",
       "    }\n",
       "</style>\n",
       "<table border=\"1\" class=\"dataframe\">\n",
       "  <thead>\n",
       "    <tr style=\"text-align: right;\">\n",
       "      <th></th>\n",
       "      <th>Ano</th>\n",
       "      <th>Espécie</th>\n",
       "      <th>CID10</th>\n",
       "      <th>Sexo</th>\n",
       "      <th>Clientela</th>\n",
       "      <th>Qde Benefícios Concedidos</th>\n",
       "      <th>Grupo CID</th>\n",
       "      <th>Grupo/Principais Espécies</th>\n",
       "      <th>Valor Benef Concedidos (R$)</th>\n",
       "      <th>Valor Benef Concedidos(Mil R$)</th>\n",
       "    </tr>\n",
       "  </thead>\n",
       "  <tbody>\n",
       "    <tr>\n",
       "      <th>0</th>\n",
       "      <td>2008</td>\n",
       "      <td>Ap Invalidez Det Ignorado</td>\n",
       "      <td>A02:Outr Infecc p/Salmonella</td>\n",
       "      <td>Masculino</td>\n",
       "      <td>Urbana</td>\n",
       "      <td>1</td>\n",
       "      <td>Algumas doenças infecciosas e parasitárias</td>\n",
       "      <td>Ap Invalidez</td>\n",
       "      <td>1979,13</td>\n",
       "      <td>1,98</td>\n",
       "    </tr>\n",
       "    <tr>\n",
       "      <th>1</th>\n",
       "      <td>2008</td>\n",
       "      <td>Ap Invalidez Det Ignorado</td>\n",
       "      <td>A04:Outr Infecc Intestinais Bacter</td>\n",
       "      <td>Masculino</td>\n",
       "      <td>Urbana</td>\n",
       "      <td>1</td>\n",
       "      <td>Algumas doenças infecciosas e parasitárias</td>\n",
       "      <td>Ap Invalidez</td>\n",
       "      <td>1100,16</td>\n",
       "      <td>1,10</td>\n",
       "    </tr>\n",
       "    <tr>\n",
       "      <th>2</th>\n",
       "      <td>2008</td>\n",
       "      <td>Ap Invalidez Det Ignorado</td>\n",
       "      <td>A15:Tuberc Respirat c/Conf Bacteriol e Histol</td>\n",
       "      <td>Masculino</td>\n",
       "      <td>Urbana</td>\n",
       "      <td>112</td>\n",
       "      <td>Algumas doenças infecciosas e parasitárias</td>\n",
       "      <td>Ap Invalidez</td>\n",
       "      <td>89232,02</td>\n",
       "      <td>89,23</td>\n",
       "    </tr>\n",
       "    <tr>\n",
       "      <th>3</th>\n",
       "      <td>2008</td>\n",
       "      <td>Ap Invalidez Det Ignorado</td>\n",
       "      <td>A16:Tuberc Vias Respirat s/Conf Bacter Histol</td>\n",
       "      <td>Masculino</td>\n",
       "      <td>Urbana</td>\n",
       "      <td>38</td>\n",
       "      <td>Algumas doenças infecciosas e parasitárias</td>\n",
       "      <td>Ap Invalidez</td>\n",
       "      <td>32786,92</td>\n",
       "      <td>32,79</td>\n",
       "    </tr>\n",
       "    <tr>\n",
       "      <th>4</th>\n",
       "      <td>2008</td>\n",
       "      <td>Ap Invalidez Det Ignorado</td>\n",
       "      <td>A17:Tuberc do Sist Nervoso</td>\n",
       "      <td>Masculino</td>\n",
       "      <td>Urbana</td>\n",
       "      <td>3</td>\n",
       "      <td>Algumas doenças infecciosas e parasitárias</td>\n",
       "      <td>Ap Invalidez</td>\n",
       "      <td>1812,30</td>\n",
       "      <td>1,81</td>\n",
       "    </tr>\n",
       "  </tbody>\n",
       "</table>\n",
       "</div>"
      ],
      "text/plain": [
       "    Ano                    Espécie  \\\n",
       "0  2008  Ap Invalidez Det Ignorado   \n",
       "1  2008  Ap Invalidez Det Ignorado   \n",
       "2  2008  Ap Invalidez Det Ignorado   \n",
       "3  2008  Ap Invalidez Det Ignorado   \n",
       "4  2008  Ap Invalidez Det Ignorado   \n",
       "\n",
       "                                           CID10       Sexo Clientela  \\\n",
       "0                   A02:Outr Infecc p/Salmonella  Masculino    Urbana   \n",
       "1             A04:Outr Infecc Intestinais Bacter  Masculino    Urbana   \n",
       "2  A15:Tuberc Respirat c/Conf Bacteriol e Histol  Masculino    Urbana   \n",
       "3  A16:Tuberc Vias Respirat s/Conf Bacter Histol  Masculino    Urbana   \n",
       "4                     A17:Tuberc do Sist Nervoso  Masculino    Urbana   \n",
       "\n",
       "  Qde Benefícios Concedidos                                   Grupo CID  \\\n",
       "0                         1  Algumas doenças infecciosas e parasitárias   \n",
       "1                         1  Algumas doenças infecciosas e parasitárias   \n",
       "2                       112  Algumas doenças infecciosas e parasitárias   \n",
       "3                        38  Algumas doenças infecciosas e parasitárias   \n",
       "4                         3  Algumas doenças infecciosas e parasitárias   \n",
       "\n",
       "  Grupo/Principais Espécies Valor Benef Concedidos (R$)  \\\n",
       "0              Ap Invalidez                     1979,13   \n",
       "1              Ap Invalidez                     1100,16   \n",
       "2              Ap Invalidez                    89232,02   \n",
       "3              Ap Invalidez                    32786,92   \n",
       "4              Ap Invalidez                     1812,30   \n",
       "\n",
       "  Valor Benef Concedidos(Mil R$)  \n",
       "0                           1,98  \n",
       "1                           1,10  \n",
       "2                          89,23  \n",
       "3                          32,79  \n",
       "4                           1,81  "
      ]
     },
     "execution_count": 2,
     "metadata": {},
     "output_type": "execute_result"
    }
   ],
   "source": [
    "# Carregar arquivo .csv\n",
    "## Pandas vai converter o arquivo em um Dataframe(Quadradoo de dados) \"Semelhante a planilhas de exell\".\n",
    "# Por convenção chamamos DataFrame de df\n",
    "\n",
    "# df = pd.read_csv(\"Credito_de_Estados_e_Municipios.csv\")\n",
    "\n",
    "# Quando o arquivo é separado por \";\"  informamos o separador (sep=\";\")\n",
    "# Quando o arquivo é codificado com cp1252 formato excell (encoding=\"cp1252\")\n",
    "df = pd.read_csv(\"CON10.csv\", encoding=\"cp1252\",error_bad_lines=False, index_col=False, dtype='unicode')\n",
    "\n",
    "## C:\\Users\\Wedley\\anaconda3\\lib\\site-packages\\IPython\\core\\interactiveshell.py:3063: \n",
    "# DtypeWarning: Columns (0,5) have mixed types.Specify dtype option on import or set low_memory=False.\n",
    "# interactivity=interactivity, compiler=compiler, result=result)\n",
    "\n",
    "# Ajustar erro : error_bad_lines=False, index_col=False, dtype='unicode'\n",
    "## Quanto a low_memory, é True por padrão e ainda não está documentado. Eu não acho que seja relevante.\n",
    "# A mensagem de erro é genérica, portanto você não precisa mexer com a memória baixa de qualquer maneira.\n",
    "\n",
    "\n",
    "df.head(5)"
   ]
  },
  {
   "cell_type": "code",
   "execution_count": 3,
   "metadata": {},
   "outputs": [
    {
     "data": {
      "text/plain": [
       "(104856, 10)"
      ]
     },
     "execution_count": 3,
     "metadata": {},
     "output_type": "execute_result"
    }
   ],
   "source": [
    "# Verifica o tamanho do Dataframe, Quantidades de linha e coluna.\n",
    "# Formato(linhas, colunas)\n",
    "df.shape"
   ]
  },
  {
   "cell_type": "code",
   "execution_count": 4,
   "metadata": {},
   "outputs": [
    {
     "data": {
      "text/plain": [
       "Ano                               104856\n",
       "Espécie                           104856\n",
       "CID10                             104856\n",
       "Sexo                              104856\n",
       "Clientela                         104856\n",
       "Qde Benefícios Concedidos         104856\n",
       "Grupo CID                         104856\n",
       "Grupo/Principais Espécies         104855\n",
       "Valor Benef Concedidos (R$)       104855\n",
       "Valor Benef Concedidos(Mil R$)    104855\n",
       "dtype: int64"
      ]
     },
     "execution_count": 4,
     "metadata": {},
     "output_type": "execute_result"
    }
   ],
   "source": [
    "# Quantidade de dados por coluna \n",
    "df.count()"
   ]
  },
  {
   "cell_type": "code",
   "execution_count": 5,
   "metadata": {},
   "outputs": [
    {
     "data": {
      "text/plain": [
       "2013    11286\n",
       "2014    11236\n",
       "2011    11167\n",
       "2012    11129\n",
       "2016    10954\n",
       "2017    10931\n",
       "2015    10589\n",
       "2010    10436\n",
       "2009     8591\n",
       "2008     8536\n",
       "-           1\n",
       "Name: Ano, dtype: int64"
      ]
     },
     "execution_count": 5,
     "metadata": {},
     "output_type": "execute_result"
    }
   ],
   "source": [
    "# Descreve itens e quantidade por coluna\n",
    "df[\"Ano\"].value_counts()"
   ]
  },
  {
   "cell_type": "code",
   "execution_count": 6,
   "metadata": {},
   "outputs": [
    {
     "data": {
      "text/plain": [
       "array(['2008', '2009', '2010', '2011', '2012', '2013', '2014', '2015',\n",
       "       '2016', '2017', '-'], dtype=object)"
      ]
     },
     "execution_count": 6,
     "metadata": {},
     "output_type": "execute_result"
    }
   ],
   "source": [
    "# Listar os itens de uma determinada coluna\n",
    "df['Ano'].unique()"
   ]
  },
  {
   "cell_type": "markdown",
   "metadata": {},
   "source": [
    "# Decisão sobre dados SELEÇÃO E LIMPEZA"
   ]
  },
  {
   "cell_type": "code",
   "execution_count": 7,
   "metadata": {},
   "outputs": [
    {
     "data": {
      "text/html": [
       "<div>\n",
       "<style scoped>\n",
       "    .dataframe tbody tr th:only-of-type {\n",
       "        vertical-align: middle;\n",
       "    }\n",
       "\n",
       "    .dataframe tbody tr th {\n",
       "        vertical-align: top;\n",
       "    }\n",
       "\n",
       "    .dataframe thead th {\n",
       "        text-align: right;\n",
       "    }\n",
       "</style>\n",
       "<table border=\"1\" class=\"dataframe\">\n",
       "  <thead>\n",
       "    <tr style=\"text-align: right;\">\n",
       "      <th></th>\n",
       "      <th>Ano</th>\n",
       "      <th>Espécie</th>\n",
       "      <th>CID10</th>\n",
       "      <th>Sexo</th>\n",
       "      <th>Clientela</th>\n",
       "      <th>Qde Benefícios Concedidos</th>\n",
       "      <th>Grupo CID</th>\n",
       "      <th>Grupo/Principais Espécies</th>\n",
       "      <th>Valor Benef Concedidos (R$)</th>\n",
       "      <th>Valor Benef Concedidos(Mil R$)</th>\n",
       "    </tr>\n",
       "  </thead>\n",
       "  <tbody>\n",
       "    <tr>\n",
       "      <th>104853</th>\n",
       "      <td>2017</td>\n",
       "      <td>Aposentadoria por Invalidez Acidentária</td>\n",
       "      <td>T93:Sequelas de Traum do Membro Infer</td>\n",
       "      <td>Feminino</td>\n",
       "      <td>Rural</td>\n",
       "      <td>2</td>\n",
       "      <td>Lesões, envenenamento e algumas outras conseqü</td>\n",
       "      <td>Aposentadorias Acidentárias</td>\n",
       "      <td>1874,00</td>\n",
       "      <td>1,87</td>\n",
       "    </tr>\n",
       "    <tr>\n",
       "      <th>104854</th>\n",
       "      <td>2017</td>\n",
       "      <td>Aposentadoria por Invalidez Acidentária</td>\n",
       "      <td>Z54:Convalescenca</td>\n",
       "      <td>Feminino</td>\n",
       "      <td>Rural</td>\n",
       "      <td>1</td>\n",
       "      <td>Fatores que influenciam o estado de saúde e o</td>\n",
       "      <td>Aposentadorias Acidentárias</td>\n",
       "      <td>937,00</td>\n",
       "      <td>0,94</td>\n",
       "    </tr>\n",
       "    <tr>\n",
       "      <th>104855</th>\n",
       "      <td>-</td>\n",
       "      <td>-</td>\n",
       "      <td>-</td>\n",
       "      <td>-</td>\n",
       "      <td>-</td>\n",
       "      <td>-</td>\n",
       "      <td>-</td>\n",
       "      <td>NaN</td>\n",
       "      <td>NaN</td>\n",
       "      <td>NaN</td>\n",
       "    </tr>\n",
       "  </tbody>\n",
       "</table>\n",
       "</div>"
      ],
      "text/plain": [
       "         Ano                                  Espécie  \\\n",
       "104853  2017  Aposentadoria por Invalidez Acidentária   \n",
       "104854  2017  Aposentadoria por Invalidez Acidentária   \n",
       "104855     -                                        -   \n",
       "\n",
       "                                        CID10      Sexo Clientela  \\\n",
       "104853  T93:Sequelas de Traum do Membro Infer  Feminino     Rural   \n",
       "104854                      Z54:Convalescenca  Feminino     Rural   \n",
       "104855                                      -         -         -   \n",
       "\n",
       "       Qde Benefícios Concedidos  \\\n",
       "104853                         2   \n",
       "104854                         1   \n",
       "104855                         -   \n",
       "\n",
       "                                             Grupo CID  \\\n",
       "104853  Lesões, envenenamento e algumas outras conseqü   \n",
       "104854   Fatores que influenciam o estado de saúde e o   \n",
       "104855                                               -   \n",
       "\n",
       "          Grupo/Principais Espécies Valor Benef Concedidos (R$)  \\\n",
       "104853  Aposentadorias Acidentárias                     1874,00   \n",
       "104854  Aposentadorias Acidentárias                      937,00   \n",
       "104855                          NaN                         NaN   \n",
       "\n",
       "       Valor Benef Concedidos(Mil R$)  \n",
       "104853                           1,87  \n",
       "104854                           0,94  \n",
       "104855                            NaN  "
      ]
     },
     "execution_count": 7,
     "metadata": {},
     "output_type": "execute_result"
    }
   ],
   "source": [
    "# Linhas finais do DataFrame\n",
    "df.tail(3)"
   ]
  },
  {
   "cell_type": "code",
   "execution_count": 8,
   "metadata": {},
   "outputs": [
    {
     "data": {
      "text/html": [
       "<div>\n",
       "<style scoped>\n",
       "    .dataframe tbody tr th:only-of-type {\n",
       "        vertical-align: middle;\n",
       "    }\n",
       "\n",
       "    .dataframe tbody tr th {\n",
       "        vertical-align: top;\n",
       "    }\n",
       "\n",
       "    .dataframe thead th {\n",
       "        text-align: right;\n",
       "    }\n",
       "</style>\n",
       "<table border=\"1\" class=\"dataframe\">\n",
       "  <thead>\n",
       "    <tr style=\"text-align: right;\">\n",
       "      <th></th>\n",
       "      <th>Ano</th>\n",
       "      <th>Espécie</th>\n",
       "      <th>CID10</th>\n",
       "      <th>Sexo</th>\n",
       "      <th>Clientela</th>\n",
       "      <th>Qde Benefícios Concedidos</th>\n",
       "      <th>Grupo CID</th>\n",
       "      <th>Grupo/Principais Espécies</th>\n",
       "      <th>Valor Benef Concedidos (R$)</th>\n",
       "      <th>Valor Benef Concedidos(Mil R$)</th>\n",
       "    </tr>\n",
       "  </thead>\n",
       "  <tbody>\n",
       "    <tr>\n",
       "      <th>104853</th>\n",
       "      <td>2017</td>\n",
       "      <td>Aposentadoria por Invalidez Acidentária</td>\n",
       "      <td>T93:Sequelas de Traum do Membro Infer</td>\n",
       "      <td>Feminino</td>\n",
       "      <td>Rural</td>\n",
       "      <td>2</td>\n",
       "      <td>Lesões, envenenamento e algumas outras conseqü</td>\n",
       "      <td>Aposentadorias Acidentárias</td>\n",
       "      <td>1874,00</td>\n",
       "      <td>1,87</td>\n",
       "    </tr>\n",
       "    <tr>\n",
       "      <th>104854</th>\n",
       "      <td>2017</td>\n",
       "      <td>Aposentadoria por Invalidez Acidentária</td>\n",
       "      <td>Z54:Convalescenca</td>\n",
       "      <td>Feminino</td>\n",
       "      <td>Rural</td>\n",
       "      <td>1</td>\n",
       "      <td>Fatores que influenciam o estado de saúde e o</td>\n",
       "      <td>Aposentadorias Acidentárias</td>\n",
       "      <td>937,00</td>\n",
       "      <td>0,94</td>\n",
       "    </tr>\n",
       "  </tbody>\n",
       "</table>\n",
       "</div>"
      ],
      "text/plain": [
       "         Ano                                  Espécie  \\\n",
       "104853  2017  Aposentadoria por Invalidez Acidentária   \n",
       "104854  2017  Aposentadoria por Invalidez Acidentária   \n",
       "\n",
       "                                        CID10      Sexo Clientela  \\\n",
       "104853  T93:Sequelas de Traum do Membro Infer  Feminino     Rural   \n",
       "104854                      Z54:Convalescenca  Feminino     Rural   \n",
       "\n",
       "       Qde Benefícios Concedidos  \\\n",
       "104853                         2   \n",
       "104854                         1   \n",
       "\n",
       "                                             Grupo CID  \\\n",
       "104853  Lesões, envenenamento e algumas outras conseqü   \n",
       "104854   Fatores que influenciam o estado de saúde e o   \n",
       "\n",
       "          Grupo/Principais Espécies Valor Benef Concedidos (R$)  \\\n",
       "104853  Aposentadorias Acidentárias                     1874,00   \n",
       "104854  Aposentadorias Acidentárias                      937,00   \n",
       "\n",
       "       Valor Benef Concedidos(Mil R$)  \n",
       "104853                           1,87  \n",
       "104854                           0,94  "
      ]
     },
     "execution_count": 8,
     "metadata": {},
     "output_type": "execute_result"
    }
   ],
   "source": [
    "# Exibir as ultimas linhas\n",
    "# drop remove linhas\n",
    "df.tail(3).drop([104855])\n",
    "\n",
    "#Removendo colunas utilizando o argumento axis=1\n",
    "#df.drop('País', axis=1)"
   ]
  },
  {
   "cell_type": "code",
   "execution_count": 9,
   "metadata": {},
   "outputs": [
    {
     "data": {
      "text/plain": [
       "array(['2014', '2015', '2016', '2017'], dtype=object)"
      ]
     },
     "execution_count": 9,
     "metadata": {},
     "output_type": "execute_result"
    }
   ],
   "source": [
    "# Limpar dados selecionando 2014 à 2017\n",
    "df_ano14_17 = df.loc[61145:104854]\n",
    "\n",
    "df_ano14_17['Ano'].unique()"
   ]
  },
  {
   "cell_type": "code",
   "execution_count": 10,
   "metadata": {
    "scrolled": true
   },
   "outputs": [
    {
     "data": {
      "text/html": [
       "<div>\n",
       "<style scoped>\n",
       "    .dataframe tbody tr th:only-of-type {\n",
       "        vertical-align: middle;\n",
       "    }\n",
       "\n",
       "    .dataframe tbody tr th {\n",
       "        vertical-align: top;\n",
       "    }\n",
       "\n",
       "    .dataframe thead th {\n",
       "        text-align: right;\n",
       "    }\n",
       "</style>\n",
       "<table border=\"1\" class=\"dataframe\">\n",
       "  <thead>\n",
       "    <tr style=\"text-align: right;\">\n",
       "      <th></th>\n",
       "      <th>Ano</th>\n",
       "      <th>Espécie</th>\n",
       "      <th>CID10</th>\n",
       "      <th>Sexo</th>\n",
       "      <th>Qde Benefícios Concedidos</th>\n",
       "      <th>Grupo CID</th>\n",
       "      <th>Grupo/Principais Espécies</th>\n",
       "      <th>Valor Benef Concedidos (R$)</th>\n",
       "    </tr>\n",
       "  </thead>\n",
       "  <tbody>\n",
       "    <tr>\n",
       "      <th>61145</th>\n",
       "      <td>2014</td>\n",
       "      <td>31-Auxílio-Doença Lops</td>\n",
       "      <td>999:Ignorado</td>\n",
       "      <td>Masculino</td>\n",
       "      <td>31495</td>\n",
       "      <td>Ignorado</td>\n",
       "      <td>Auxílio Doença</td>\n",
       "      <td>36238471,66</td>\n",
       "    </tr>\n",
       "    <tr>\n",
       "      <th>61146</th>\n",
       "      <td>2014</td>\n",
       "      <td>31-Auxílio-Doença Lops</td>\n",
       "      <td>A00:Colera</td>\n",
       "      <td>Masculino</td>\n",
       "      <td>55</td>\n",
       "      <td>Algumas doenças infecciosas e parasitárias</td>\n",
       "      <td>Auxílio Doença</td>\n",
       "      <td>66762,05</td>\n",
       "    </tr>\n",
       "    <tr>\n",
       "      <th>61147</th>\n",
       "      <td>2014</td>\n",
       "      <td>31-Auxílio-Doença Lops</td>\n",
       "      <td>A01:Febres Tifoide e Paratifoide</td>\n",
       "      <td>Masculino</td>\n",
       "      <td>15</td>\n",
       "      <td>Algumas doenças infecciosas e parasitárias</td>\n",
       "      <td>Auxílio Doença</td>\n",
       "      <td>17408,53</td>\n",
       "    </tr>\n",
       "    <tr>\n",
       "      <th>61148</th>\n",
       "      <td>2014</td>\n",
       "      <td>31-Auxílio-Doença Lops</td>\n",
       "      <td>A02:Outr Infecc p/Salmonella</td>\n",
       "      <td>Masculino</td>\n",
       "      <td>8</td>\n",
       "      <td>Algumas doenças infecciosas e parasitárias</td>\n",
       "      <td>Auxílio Doença</td>\n",
       "      <td>9053,60</td>\n",
       "    </tr>\n",
       "    <tr>\n",
       "      <th>61149</th>\n",
       "      <td>2014</td>\n",
       "      <td>31-Auxílio-Doença Lops</td>\n",
       "      <td>A03:Shiguelose</td>\n",
       "      <td>Masculino</td>\n",
       "      <td>2</td>\n",
       "      <td>Algumas doenças infecciosas e parasitárias</td>\n",
       "      <td>Auxílio Doença</td>\n",
       "      <td>3003,14</td>\n",
       "    </tr>\n",
       "  </tbody>\n",
       "</table>\n",
       "</div>"
      ],
      "text/plain": [
       "        Ano                 Espécie                             CID10  \\\n",
       "61145  2014  31-Auxílio-Doença Lops                      999:Ignorado   \n",
       "61146  2014  31-Auxílio-Doença Lops                        A00:Colera   \n",
       "61147  2014  31-Auxílio-Doença Lops  A01:Febres Tifoide e Paratifoide   \n",
       "61148  2014  31-Auxílio-Doença Lops      A02:Outr Infecc p/Salmonella   \n",
       "61149  2014  31-Auxílio-Doença Lops                    A03:Shiguelose   \n",
       "\n",
       "            Sexo Qde Benefícios Concedidos  \\\n",
       "61145  Masculino                     31495   \n",
       "61146  Masculino                        55   \n",
       "61147  Masculino                        15   \n",
       "61148  Masculino                         8   \n",
       "61149  Masculino                         2   \n",
       "\n",
       "                                        Grupo CID Grupo/Principais Espécies  \\\n",
       "61145                                    Ignorado            Auxílio Doença   \n",
       "61146  Algumas doenças infecciosas e parasitárias            Auxílio Doença   \n",
       "61147  Algumas doenças infecciosas e parasitárias            Auxílio Doença   \n",
       "61148  Algumas doenças infecciosas e parasitárias            Auxílio Doença   \n",
       "61149  Algumas doenças infecciosas e parasitárias            Auxílio Doença   \n",
       "\n",
       "      Valor Benef Concedidos (R$)  \n",
       "61145                 36238471,66  \n",
       "61146                    66762,05  \n",
       "61147                    17408,53  \n",
       "61148                     9053,60  \n",
       "61149                     3003,14  "
      ]
     },
     "execution_count": 10,
     "metadata": {},
     "output_type": "execute_result"
    }
   ],
   "source": [
    "df_ano14_17 = df_ano14_17.drop(columns=['Valor Benef Concedidos(Mil R$)'])\n",
    "df_ano14_17 = df_ano14_17.drop(columns=['Clientela'])\n",
    "\n",
    "df_ano14_17.head()\n",
    "\n",
    "\n"
   ]
  },
  {
   "cell_type": "code",
   "execution_count": 11,
   "metadata": {},
   "outputs": [
    {
     "data": {
      "text/plain": [
       "Ano                            43710\n",
       "Espécie                        43710\n",
       "CID10                          43710\n",
       "Sexo                           43710\n",
       "Qde Benefícios Concedidos      43710\n",
       "Grupo CID                      43710\n",
       "Grupo/Principais Espécies      43710\n",
       "Valor Benef Concedidos (R$)    43710\n",
       "dtype: int64"
      ]
     },
     "execution_count": 11,
     "metadata": {},
     "output_type": "execute_result"
    }
   ],
   "source": [
    "df_ano14_17.count()"
   ]
  },
  {
   "cell_type": "markdown",
   "metadata": {},
   "source": [
    "# Salvando alterações"
   ]
  },
  {
   "cell_type": "code",
   "execution_count": 12,
   "metadata": {},
   "outputs": [],
   "source": [
    "#Para Salvar arquivo em CSV\n",
    "#df_ano14_17.to_csv('Dados1.csv')"
   ]
  }
 ],
 "metadata": {
  "kernelspec": {
   "display_name": "Python 3",
   "language": "python",
   "name": "python3"
  },
  "language_info": {
   "codemirror_mode": {
    "name": "ipython",
    "version": 3
   },
   "file_extension": ".py",
   "mimetype": "text/x-python",
   "name": "python",
   "nbconvert_exporter": "python",
   "pygments_lexer": "ipython3",
   "version": "3.7.6"
  }
 },
 "nbformat": 4,
 "nbformat_minor": 4
}
