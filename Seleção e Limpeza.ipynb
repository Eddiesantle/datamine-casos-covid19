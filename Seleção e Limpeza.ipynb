{
 "cells": [
  {
   "cell_type": "markdown",
   "metadata": {},
   "source": [
    "Benefícios por Incapacidade Concedidos por Classificação Internacional de Doenças (CID)\n",
    "\n",
    "Benefícios concedidos pela Classificação Internacional de Doenças (CID-10), grupos de espécie \n",
    "específicos, clientela, sexo do beneficiário e ano da Data de Despacho do Beneficio (DDB). Não inclui \n",
    "pensões alimentícias, desdobramentos de pensões por morte nem benefícios de prestação única. Considera \n",
    "apenas espécies de 'aposentadorias por invalidez' e 'auxílios-doença'.\n",
    "\n",
    "# BANCO DE DADOS da disciplina de DATAMINING \n",
    "    \n",
    "Com base nos dados da DADOSGOV(http://www.dados.gov.br).\n",
    "\n",
    "- Seleção: Escolher um subconjunto de dados abas, colunas e linhas relevantes.\n",
    "- Limpesa: Retirar abas, colunas e linhas irrelevantes.\n",
    "- Enriquecer: Adicionar abas, colunas e linhas de outra origens de dados.\n",
    "- Enriquecer Criar: Criar um valor novo que não existe(null) colunas e linhas.\n",
    "- Transformação: Altera dados com objetivo de padronizar.\n",
    "\n",
    "Link -> http://www.dados.gov.br/dataset/beneficios-por-incapacidade-concedidos-por-classificacao-internacional-de-doencas-cid10\n",
    "\n",
    "Arquivo -> BD_ORIGINAL_CID_BENEFICIOS.csv"
   ]
  },
  {
   "cell_type": "code",
   "execution_count": 1,
   "metadata": {},
   "outputs": [],
   "source": [
    "# Importando bibliotecas\n",
    "# Por convenção pandas é chamado pd\n",
    "import pandas as pd\n",
    "import numpy as np\n",
    "# Configurando o matplotlib\n",
    "%matplotlib inline"
   ]
  },
  {
   "cell_type": "markdown",
   "metadata": {},
   "source": [
    "## Método - SELEÇÃO E LIMPEZA"
   ]
  },
  {
   "cell_type": "code",
   "execution_count": 2,
   "metadata": {},
   "outputs": [
    {
     "data": {
      "text/html": [
       "<div>\n",
       "<style scoped>\n",
       "    .dataframe tbody tr th:only-of-type {\n",
       "        vertical-align: middle;\n",
       "    }\n",
       "\n",
       "    .dataframe tbody tr th {\n",
       "        vertical-align: top;\n",
       "    }\n",
       "\n",
       "    .dataframe thead th {\n",
       "        text-align: right;\n",
       "    }\n",
       "</style>\n",
       "<table border=\"1\" class=\"dataframe\">\n",
       "  <thead>\n",
       "    <tr style=\"text-align: right;\">\n",
       "      <th></th>\n",
       "      <th>Ano</th>\n",
       "      <th>Espécie</th>\n",
       "      <th>CID10</th>\n",
       "      <th>Sexo</th>\n",
       "      <th>Clientela</th>\n",
       "      <th>Qde Benefícios Concedidos</th>\n",
       "      <th>Grupo CID</th>\n",
       "      <th>Grupo/Principais Espécies</th>\n",
       "      <th>Valor Benef Concedidos (R$)</th>\n",
       "      <th>Valor Benef Concedidos(Mil R$)</th>\n",
       "    </tr>\n",
       "  </thead>\n",
       "  <tbody>\n",
       "    <tr>\n",
       "      <th>0</th>\n",
       "      <td>2008</td>\n",
       "      <td>Ap Invalidez Det Ignorado</td>\n",
       "      <td>A02:Outr Infecc p/Salmonella</td>\n",
       "      <td>Masculino</td>\n",
       "      <td>Urbana</td>\n",
       "      <td>1</td>\n",
       "      <td>Algumas doenças infecciosas e parasitárias</td>\n",
       "      <td>Ap Invalidez</td>\n",
       "      <td>1979,13</td>\n",
       "      <td>1,98</td>\n",
       "    </tr>\n",
       "    <tr>\n",
       "      <th>1</th>\n",
       "      <td>2008</td>\n",
       "      <td>Ap Invalidez Det Ignorado</td>\n",
       "      <td>A04:Outr Infecc Intestinais Bacter</td>\n",
       "      <td>Masculino</td>\n",
       "      <td>Urbana</td>\n",
       "      <td>1</td>\n",
       "      <td>Algumas doenças infecciosas e parasitárias</td>\n",
       "      <td>Ap Invalidez</td>\n",
       "      <td>1100,16</td>\n",
       "      <td>1,10</td>\n",
       "    </tr>\n",
       "    <tr>\n",
       "      <th>2</th>\n",
       "      <td>2008</td>\n",
       "      <td>Ap Invalidez Det Ignorado</td>\n",
       "      <td>A15:Tuberc Respirat c/Conf Bacteriol e Histol</td>\n",
       "      <td>Masculino</td>\n",
       "      <td>Urbana</td>\n",
       "      <td>112</td>\n",
       "      <td>Algumas doenças infecciosas e parasitárias</td>\n",
       "      <td>Ap Invalidez</td>\n",
       "      <td>89232,02</td>\n",
       "      <td>89,23</td>\n",
       "    </tr>\n",
       "    <tr>\n",
       "      <th>3</th>\n",
       "      <td>2008</td>\n",
       "      <td>Ap Invalidez Det Ignorado</td>\n",
       "      <td>A16:Tuberc Vias Respirat s/Conf Bacter Histol</td>\n",
       "      <td>Masculino</td>\n",
       "      <td>Urbana</td>\n",
       "      <td>38</td>\n",
       "      <td>Algumas doenças infecciosas e parasitárias</td>\n",
       "      <td>Ap Invalidez</td>\n",
       "      <td>32786,92</td>\n",
       "      <td>32,79</td>\n",
       "    </tr>\n",
       "    <tr>\n",
       "      <th>4</th>\n",
       "      <td>2008</td>\n",
       "      <td>Ap Invalidez Det Ignorado</td>\n",
       "      <td>A17:Tuberc do Sist Nervoso</td>\n",
       "      <td>Masculino</td>\n",
       "      <td>Urbana</td>\n",
       "      <td>3</td>\n",
       "      <td>Algumas doenças infecciosas e parasitárias</td>\n",
       "      <td>Ap Invalidez</td>\n",
       "      <td>1812,30</td>\n",
       "      <td>1,81</td>\n",
       "    </tr>\n",
       "  </tbody>\n",
       "</table>\n",
       "</div>"
      ],
      "text/plain": [
       "    Ano                    Espécie  \\\n",
       "0  2008  Ap Invalidez Det Ignorado   \n",
       "1  2008  Ap Invalidez Det Ignorado   \n",
       "2  2008  Ap Invalidez Det Ignorado   \n",
       "3  2008  Ap Invalidez Det Ignorado   \n",
       "4  2008  Ap Invalidez Det Ignorado   \n",
       "\n",
       "                                           CID10       Sexo Clientela  \\\n",
       "0                   A02:Outr Infecc p/Salmonella  Masculino    Urbana   \n",
       "1             A04:Outr Infecc Intestinais Bacter  Masculino    Urbana   \n",
       "2  A15:Tuberc Respirat c/Conf Bacteriol e Histol  Masculino    Urbana   \n",
       "3  A16:Tuberc Vias Respirat s/Conf Bacter Histol  Masculino    Urbana   \n",
       "4                     A17:Tuberc do Sist Nervoso  Masculino    Urbana   \n",
       "\n",
       "  Qde Benefícios Concedidos                                   Grupo CID  \\\n",
       "0                         1  Algumas doenças infecciosas e parasitárias   \n",
       "1                         1  Algumas doenças infecciosas e parasitárias   \n",
       "2                       112  Algumas doenças infecciosas e parasitárias   \n",
       "3                        38  Algumas doenças infecciosas e parasitárias   \n",
       "4                         3  Algumas doenças infecciosas e parasitárias   \n",
       "\n",
       "  Grupo/Principais Espécies Valor Benef Concedidos (R$)  \\\n",
       "0              Ap Invalidez                     1979,13   \n",
       "1              Ap Invalidez                     1100,16   \n",
       "2              Ap Invalidez                    89232,02   \n",
       "3              Ap Invalidez                    32786,92   \n",
       "4              Ap Invalidez                     1812,30   \n",
       "\n",
       "  Valor Benef Concedidos(Mil R$)  \n",
       "0                           1,98  \n",
       "1                           1,10  \n",
       "2                          89,23  \n",
       "3                          32,79  \n",
       "4                           1,81  "
      ]
     },
     "execution_count": 2,
     "metadata": {},
     "output_type": "execute_result"
    }
   ],
   "source": [
    "# Carregar arquivo .csv\n",
    "## Pandas vai converter o arquivo em um Dataframe(Quadradoo de dados) \"Semelhante a planilhas de exell\".\n",
    "# Por convenção chamamos DataFrame de df\n",
    "\n",
    "# df = pd.read_csv(\"Credito_de_Estados_e_Municipios.csv\")\n",
    "\n",
    "# Quando o arquivo é separado por \";\"  informamos o separador (sep=\";\")\n",
    "# Quando o arquivo é codificado com cp1252 formato excell (encoding=\"cp1252\")\n",
    "df = pd.read_csv(\"BD_ORIGINAL_CID_BENEFICIOS.csv\", encoding=\"cp1252\",error_bad_lines=False, index_col=False, dtype='unicode')\n",
    "\n",
    "## C:\\Users\\Wedley\\anaconda3\\lib\\site-packages\\IPython\\core\\interactiveshell.py:3063: \n",
    "# DtypeWarning: Columns (0,5) have mixed types.Specify dtype option on import or set low_memory=False.\n",
    "# interactivity=interactivity, compiler=compiler, result=result)\n",
    "\n",
    "# Ajustar erro : error_bad_lines=False, index_col=False, dtype='unicode'\n",
    "## Quanto a low_memory, é True por padrão e ainda não está documentado. Eu não acho que seja relevante.\n",
    "# A mensagem de erro é genérica, portanto você não precisa mexer com a memória baixa de qualquer maneira.\n",
    "\n",
    "\n",
    "df.head(5)"
   ]
  },
  {
   "cell_type": "code",
   "execution_count": 3,
   "metadata": {},
   "outputs": [
    {
     "data": {
      "text/plain": [
       "(104856, 10)"
      ]
     },
     "execution_count": 3,
     "metadata": {},
     "output_type": "execute_result"
    }
   ],
   "source": [
    "# Verifica o tamanho do Dataframe, Quantidades de linha e coluna.\n",
    "# Formato(linhas, colunas)\n",
    "df.shape"
   ]
  },
  {
   "cell_type": "code",
   "execution_count": 4,
   "metadata": {},
   "outputs": [
    {
     "data": {
      "text/plain": [
       "Ano                               104856\n",
       "Espécie                           104856\n",
       "CID10                             104856\n",
       "Sexo                              104856\n",
       "Clientela                         104856\n",
       "Qde Benefícios Concedidos         104856\n",
       "Grupo CID                         104856\n",
       "Grupo/Principais Espécies         104855\n",
       "Valor Benef Concedidos (R$)       104855\n",
       "Valor Benef Concedidos(Mil R$)    104855\n",
       "dtype: int64"
      ]
     },
     "execution_count": 4,
     "metadata": {},
     "output_type": "execute_result"
    }
   ],
   "source": [
    "# Quantidade de dados por coluna \n",
    "df.count()"
   ]
  },
  {
   "cell_type": "code",
   "execution_count": 5,
   "metadata": {},
   "outputs": [
    {
     "data": {
      "text/plain": [
       "2013    11286\n",
       "2014    11236\n",
       "2011    11167\n",
       "2012    11129\n",
       "2016    10954\n",
       "2017    10931\n",
       "2015    10589\n",
       "2010    10436\n",
       "2009     8591\n",
       "2008     8536\n",
       "-           1\n",
       "Name: Ano, dtype: int64"
      ]
     },
     "execution_count": 5,
     "metadata": {},
     "output_type": "execute_result"
    }
   ],
   "source": [
    "# Descreve itens e quantidade por coluna\n",
    "df[\"Ano\"].value_counts()"
   ]
  },
  {
   "cell_type": "markdown",
   "metadata": {},
   "source": [
    "# Decisão sobre dados SELEÇÃO E LIMPEZA"
   ]
  },
  {
   "cell_type": "code",
   "execution_count": 6,
   "metadata": {},
   "outputs": [
    {
     "data": {
      "text/html": [
       "<div>\n",
       "<style scoped>\n",
       "    .dataframe tbody tr th:only-of-type {\n",
       "        vertical-align: middle;\n",
       "    }\n",
       "\n",
       "    .dataframe tbody tr th {\n",
       "        vertical-align: top;\n",
       "    }\n",
       "\n",
       "    .dataframe thead th {\n",
       "        text-align: right;\n",
       "    }\n",
       "</style>\n",
       "<table border=\"1\" class=\"dataframe\">\n",
       "  <thead>\n",
       "    <tr style=\"text-align: right;\">\n",
       "      <th></th>\n",
       "      <th>Ano</th>\n",
       "      <th>Espécie</th>\n",
       "      <th>CID10</th>\n",
       "      <th>Sexo</th>\n",
       "      <th>Clientela</th>\n",
       "      <th>Qde Benefícios Concedidos</th>\n",
       "      <th>Grupo CID</th>\n",
       "      <th>Grupo/Principais Espécies</th>\n",
       "      <th>Valor Benef Concedidos (R$)</th>\n",
       "      <th>Valor Benef Concedidos(Mil R$)</th>\n",
       "    </tr>\n",
       "  </thead>\n",
       "  <tbody>\n",
       "    <tr>\n",
       "      <th>104853</th>\n",
       "      <td>2017</td>\n",
       "      <td>Aposentadoria por Invalidez Acidentária</td>\n",
       "      <td>T93:Sequelas de Traum do Membro Infer</td>\n",
       "      <td>Feminino</td>\n",
       "      <td>Rural</td>\n",
       "      <td>2</td>\n",
       "      <td>Lesões, envenenamento e algumas outras conseqü</td>\n",
       "      <td>Aposentadorias Acidentárias</td>\n",
       "      <td>1874,00</td>\n",
       "      <td>1,87</td>\n",
       "    </tr>\n",
       "    <tr>\n",
       "      <th>104854</th>\n",
       "      <td>2017</td>\n",
       "      <td>Aposentadoria por Invalidez Acidentária</td>\n",
       "      <td>Z54:Convalescenca</td>\n",
       "      <td>Feminino</td>\n",
       "      <td>Rural</td>\n",
       "      <td>1</td>\n",
       "      <td>Fatores que influenciam o estado de saúde e o</td>\n",
       "      <td>Aposentadorias Acidentárias</td>\n",
       "      <td>937,00</td>\n",
       "      <td>0,94</td>\n",
       "    </tr>\n",
       "    <tr>\n",
       "      <th>104855</th>\n",
       "      <td>-</td>\n",
       "      <td>-</td>\n",
       "      <td>-</td>\n",
       "      <td>-</td>\n",
       "      <td>-</td>\n",
       "      <td>-</td>\n",
       "      <td>-</td>\n",
       "      <td>NaN</td>\n",
       "      <td>NaN</td>\n",
       "      <td>NaN</td>\n",
       "    </tr>\n",
       "  </tbody>\n",
       "</table>\n",
       "</div>"
      ],
      "text/plain": [
       "         Ano                                  Espécie  \\\n",
       "104853  2017  Aposentadoria por Invalidez Acidentária   \n",
       "104854  2017  Aposentadoria por Invalidez Acidentária   \n",
       "104855     -                                        -   \n",
       "\n",
       "                                        CID10      Sexo Clientela  \\\n",
       "104853  T93:Sequelas de Traum do Membro Infer  Feminino     Rural   \n",
       "104854                      Z54:Convalescenca  Feminino     Rural   \n",
       "104855                                      -         -         -   \n",
       "\n",
       "       Qde Benefícios Concedidos  \\\n",
       "104853                         2   \n",
       "104854                         1   \n",
       "104855                         -   \n",
       "\n",
       "                                             Grupo CID  \\\n",
       "104853  Lesões, envenenamento e algumas outras conseqü   \n",
       "104854   Fatores que influenciam o estado de saúde e o   \n",
       "104855                                               -   \n",
       "\n",
       "          Grupo/Principais Espécies Valor Benef Concedidos (R$)  \\\n",
       "104853  Aposentadorias Acidentárias                     1874,00   \n",
       "104854  Aposentadorias Acidentárias                      937,00   \n",
       "104855                          NaN                         NaN   \n",
       "\n",
       "       Valor Benef Concedidos(Mil R$)  \n",
       "104853                           1,87  \n",
       "104854                           0,94  \n",
       "104855                            NaN  "
      ]
     },
     "execution_count": 6,
     "metadata": {},
     "output_type": "execute_result"
    }
   ],
   "source": [
    "# Linhas finais do DataFrame\n",
    "df.tail(3)"
   ]
  },
  {
   "cell_type": "code",
   "execution_count": 7,
   "metadata": {},
   "outputs": [
    {
     "data": {
      "text/html": [
       "<div>\n",
       "<style scoped>\n",
       "    .dataframe tbody tr th:only-of-type {\n",
       "        vertical-align: middle;\n",
       "    }\n",
       "\n",
       "    .dataframe tbody tr th {\n",
       "        vertical-align: top;\n",
       "    }\n",
       "\n",
       "    .dataframe thead th {\n",
       "        text-align: right;\n",
       "    }\n",
       "</style>\n",
       "<table border=\"1\" class=\"dataframe\">\n",
       "  <thead>\n",
       "    <tr style=\"text-align: right;\">\n",
       "      <th></th>\n",
       "      <th>Ano</th>\n",
       "      <th>Espécie</th>\n",
       "      <th>CID10</th>\n",
       "      <th>Sexo</th>\n",
       "      <th>Clientela</th>\n",
       "      <th>Qde Benefícios Concedidos</th>\n",
       "      <th>Grupo CID</th>\n",
       "      <th>Grupo/Principais Espécies</th>\n",
       "      <th>Valor Benef Concedidos (R$)</th>\n",
       "      <th>Valor Benef Concedidos(Mil R$)</th>\n",
       "    </tr>\n",
       "  </thead>\n",
       "  <tbody>\n",
       "    <tr>\n",
       "      <th>104853</th>\n",
       "      <td>2017</td>\n",
       "      <td>Aposentadoria por Invalidez Acidentária</td>\n",
       "      <td>T93:Sequelas de Traum do Membro Infer</td>\n",
       "      <td>Feminino</td>\n",
       "      <td>Rural</td>\n",
       "      <td>2</td>\n",
       "      <td>Lesões, envenenamento e algumas outras conseqü</td>\n",
       "      <td>Aposentadorias Acidentárias</td>\n",
       "      <td>1874,00</td>\n",
       "      <td>1,87</td>\n",
       "    </tr>\n",
       "    <tr>\n",
       "      <th>104854</th>\n",
       "      <td>2017</td>\n",
       "      <td>Aposentadoria por Invalidez Acidentária</td>\n",
       "      <td>Z54:Convalescenca</td>\n",
       "      <td>Feminino</td>\n",
       "      <td>Rural</td>\n",
       "      <td>1</td>\n",
       "      <td>Fatores que influenciam o estado de saúde e o</td>\n",
       "      <td>Aposentadorias Acidentárias</td>\n",
       "      <td>937,00</td>\n",
       "      <td>0,94</td>\n",
       "    </tr>\n",
       "  </tbody>\n",
       "</table>\n",
       "</div>"
      ],
      "text/plain": [
       "         Ano                                  Espécie  \\\n",
       "104853  2017  Aposentadoria por Invalidez Acidentária   \n",
       "104854  2017  Aposentadoria por Invalidez Acidentária   \n",
       "\n",
       "                                        CID10      Sexo Clientela  \\\n",
       "104853  T93:Sequelas de Traum do Membro Infer  Feminino     Rural   \n",
       "104854                      Z54:Convalescenca  Feminino     Rural   \n",
       "\n",
       "       Qde Benefícios Concedidos  \\\n",
       "104853                         2   \n",
       "104854                         1   \n",
       "\n",
       "                                             Grupo CID  \\\n",
       "104853  Lesões, envenenamento e algumas outras conseqü   \n",
       "104854   Fatores que influenciam o estado de saúde e o   \n",
       "\n",
       "          Grupo/Principais Espécies Valor Benef Concedidos (R$)  \\\n",
       "104853  Aposentadorias Acidentárias                     1874,00   \n",
       "104854  Aposentadorias Acidentárias                      937,00   \n",
       "\n",
       "       Valor Benef Concedidos(Mil R$)  \n",
       "104853                           1,87  \n",
       "104854                           0,94  "
      ]
     },
     "execution_count": 7,
     "metadata": {},
     "output_type": "execute_result"
    }
   ],
   "source": [
    "# Exibir as ultimas linhas\n",
    "# drop remove linhas\n",
    "df.tail(3).drop([104855])\n",
    "\n",
    "#Removendo colunas utilizando o argumento axis=1\n",
    "#df.drop('País', axis=1)"
   ]
  },
  {
   "cell_type": "code",
   "execution_count": 8,
   "metadata": {},
   "outputs": [
    {
     "data": {
      "text/plain": [
       "31-Auxílio-Doença Lops                     50910\n",
       "Auxílio-Doença Acidentário                 19411\n",
       "Ap Invalidez Det Ignorado                  17419\n",
       "32-Ap Invalidez Lops                        9927\n",
       "Aposentadoria por Invalidez Acidentária     7188\n",
       "-                                              1\n",
       "Name: Espécie, dtype: int64"
      ]
     },
     "execution_count": 8,
     "metadata": {},
     "output_type": "execute_result"
    }
   ],
   "source": [
    "# Coluna com dados já obtidos em 'Grupo/Principais Espécies'\n",
    "df['Espécie'].value_counts()"
   ]
  },
  {
   "cell_type": "code",
   "execution_count": 9,
   "metadata": {},
   "outputs": [],
   "source": [
    "# Deletar coluna 'Espécie' por motivos de redundância \n",
    "df = df.drop(columns=['Espécie'])"
   ]
  },
  {
   "cell_type": "code",
   "execution_count": 10,
   "metadata": {},
   "outputs": [
    {
     "data": {
      "text/plain": [
       "Auxílio Doença                 50910\n",
       "Ap Invalidez                   27346\n",
       "Auxílio Doença Acidentário     19411\n",
       "Aposentadorias Acidentárias     7188\n",
       "Name: Grupo/Principais Espécies, dtype: int64"
      ]
     },
     "execution_count": 10,
     "metadata": {},
     "output_type": "execute_result"
    }
   ],
   "source": [
    "df['Grupo/Principais Espécies'].value_counts()"
   ]
  },
  {
   "cell_type": "code",
   "execution_count": 11,
   "metadata": {},
   "outputs": [],
   "source": [
    "# Deletar coluna 'Valor Benef Concedidos(Mil R$)' por motivos de redundância \n",
    "df = df.drop(columns=['Valor Benef Concedidos(Mil R$)'])"
   ]
  },
  {
   "cell_type": "code",
   "execution_count": 12,
   "metadata": {},
   "outputs": [],
   "source": [
    "# Deletar coluna 'Valor Benef Concedidos (R$)' por motivos de Irrelevancia \n",
    "df = df.drop(columns=['Valor Benef Concedidos (R$)'])"
   ]
  },
  {
   "cell_type": "code",
   "execution_count": 13,
   "metadata": {},
   "outputs": [],
   "source": [
    "# Deletar coluna 'Clientela' por motivos de Irrelevancia \n",
    "df = df.drop(columns=['Clientela'])"
   ]
  },
  {
   "cell_type": "code",
   "execution_count": 14,
   "metadata": {
    "scrolled": true
   },
   "outputs": [
    {
     "data": {
      "text/html": [
       "<div>\n",
       "<style scoped>\n",
       "    .dataframe tbody tr th:only-of-type {\n",
       "        vertical-align: middle;\n",
       "    }\n",
       "\n",
       "    .dataframe tbody tr th {\n",
       "        vertical-align: top;\n",
       "    }\n",
       "\n",
       "    .dataframe thead th {\n",
       "        text-align: right;\n",
       "    }\n",
       "</style>\n",
       "<table border=\"1\" class=\"dataframe\">\n",
       "  <thead>\n",
       "    <tr style=\"text-align: right;\">\n",
       "      <th></th>\n",
       "      <th>Ano</th>\n",
       "      <th>CID10</th>\n",
       "      <th>Sexo</th>\n",
       "      <th>Qde Benefícios Concedidos</th>\n",
       "      <th>Grupo CID</th>\n",
       "      <th>Grupo/Principais Espécies</th>\n",
       "    </tr>\n",
       "  </thead>\n",
       "  <tbody>\n",
       "    <tr>\n",
       "      <th>0</th>\n",
       "      <td>2008</td>\n",
       "      <td>A02:Outr Infecc p/Salmonella</td>\n",
       "      <td>Masculino</td>\n",
       "      <td>1</td>\n",
       "      <td>Algumas doenças infecciosas e parasitárias</td>\n",
       "      <td>Ap Invalidez</td>\n",
       "    </tr>\n",
       "    <tr>\n",
       "      <th>1</th>\n",
       "      <td>2008</td>\n",
       "      <td>A04:Outr Infecc Intestinais Bacter</td>\n",
       "      <td>Masculino</td>\n",
       "      <td>1</td>\n",
       "      <td>Algumas doenças infecciosas e parasitárias</td>\n",
       "      <td>Ap Invalidez</td>\n",
       "    </tr>\n",
       "    <tr>\n",
       "      <th>2</th>\n",
       "      <td>2008</td>\n",
       "      <td>A15:Tuberc Respirat c/Conf Bacteriol e Histol</td>\n",
       "      <td>Masculino</td>\n",
       "      <td>112</td>\n",
       "      <td>Algumas doenças infecciosas e parasitárias</td>\n",
       "      <td>Ap Invalidez</td>\n",
       "    </tr>\n",
       "    <tr>\n",
       "      <th>3</th>\n",
       "      <td>2008</td>\n",
       "      <td>A16:Tuberc Vias Respirat s/Conf Bacter Histol</td>\n",
       "      <td>Masculino</td>\n",
       "      <td>38</td>\n",
       "      <td>Algumas doenças infecciosas e parasitárias</td>\n",
       "      <td>Ap Invalidez</td>\n",
       "    </tr>\n",
       "    <tr>\n",
       "      <th>4</th>\n",
       "      <td>2008</td>\n",
       "      <td>A17:Tuberc do Sist Nervoso</td>\n",
       "      <td>Masculino</td>\n",
       "      <td>3</td>\n",
       "      <td>Algumas doenças infecciosas e parasitárias</td>\n",
       "      <td>Ap Invalidez</td>\n",
       "    </tr>\n",
       "  </tbody>\n",
       "</table>\n",
       "</div>"
      ],
      "text/plain": [
       "    Ano                                          CID10       Sexo  \\\n",
       "0  2008                   A02:Outr Infecc p/Salmonella  Masculino   \n",
       "1  2008             A04:Outr Infecc Intestinais Bacter  Masculino   \n",
       "2  2008  A15:Tuberc Respirat c/Conf Bacteriol e Histol  Masculino   \n",
       "3  2008  A16:Tuberc Vias Respirat s/Conf Bacter Histol  Masculino   \n",
       "4  2008                     A17:Tuberc do Sist Nervoso  Masculino   \n",
       "\n",
       "  Qde Benefícios Concedidos                                   Grupo CID  \\\n",
       "0                         1  Algumas doenças infecciosas e parasitárias   \n",
       "1                         1  Algumas doenças infecciosas e parasitárias   \n",
       "2                       112  Algumas doenças infecciosas e parasitárias   \n",
       "3                        38  Algumas doenças infecciosas e parasitárias   \n",
       "4                         3  Algumas doenças infecciosas e parasitárias   \n",
       "\n",
       "  Grupo/Principais Espécies  \n",
       "0              Ap Invalidez  \n",
       "1              Ap Invalidez  \n",
       "2              Ap Invalidez  \n",
       "3              Ap Invalidez  \n",
       "4              Ap Invalidez  "
      ]
     },
     "execution_count": 14,
     "metadata": {},
     "output_type": "execute_result"
    }
   ],
   "source": [
    "# Criar um novo Dataframe sem os dados de \n",
    "#'Ignorado' da coluna 'Grupo CID'.\n",
    "df = df[df['Grupo CID'] != 'Ignorado']\n",
    "df.head()"
   ]
  },
  {
   "cell_type": "code",
   "execution_count": 15,
   "metadata": {},
   "outputs": [
    {
     "data": {
      "text/plain": [
       "array(['2008', '2009', '2010', '2011', '2012', '2013', '2014', '2015',\n",
       "       '2016', '2017', '-'], dtype=object)"
      ]
     },
     "execution_count": 15,
     "metadata": {},
     "output_type": "execute_result"
    }
   ],
   "source": [
    "# Listar os itens de uma determinada coluna\n",
    "df['Ano'].unique()"
   ]
  },
  {
   "cell_type": "code",
   "execution_count": 16,
   "metadata": {},
   "outputs": [],
   "source": [
    "df = df[df['Ano'] != '-']"
   ]
  },
  {
   "cell_type": "markdown",
   "metadata": {},
   "source": [
    "# Salvando alterações"
   ]
  },
  {
   "cell_type": "code",
   "execution_count": 18,
   "metadata": {},
   "outputs": [],
   "source": [
    "#Para Salvar arquivo em CSV\n",
    "df.to_csv('BD_BASE1.csv',encoding=\"cp1252\")"
   ]
  }
 ],
 "metadata": {
  "kernelspec": {
   "display_name": "Python 3",
   "language": "python",
   "name": "python3"
  },
  "language_info": {
   "codemirror_mode": {
    "name": "ipython",
    "version": 3
   },
   "file_extension": ".py",
   "mimetype": "text/x-python",
   "name": "python",
   "nbconvert_exporter": "python",
   "pygments_lexer": "ipython3",
   "version": "3.7.6"
  }
 },
 "nbformat": 4,
 "nbformat_minor": 4
}
